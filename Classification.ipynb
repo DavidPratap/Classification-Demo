{
 "cells": [
  {
   "cell_type": "markdown",
   "id": "249f253e",
   "metadata": {},
   "source": [
    "## Introduction\n",
    "### The purpose of this tutorial is to give a demonstration of the 10 step method we can use in scikit learn to do any machine learnig task. In particular we are tackling the classification problem where we are predicting a categorical outcome variable.**\n",
    "### The dataset\n",
    "**We use the famous iris dataset to demonstrate the code for predicting the outcome which is the species of the flower. This dataset in available in the datasets library of scikit learn**\n",
    "\n",
    "\n",
    "### Attribute Information\n",
    "**Attribute Information (in order)**:\n",
    "   - sepal length in cm\n",
    "        - sepal width in cm\n",
    "        - petal length in cm\n",
    "        - petal width in cm\n",
    "        - class:\n",
    "                - Iris-Setosa\n",
    "                - Iris-Versicolour\n",
    "                - Iris-Virginica\n",
    "                \n",
    "### Description of the task\n",
    "The task is to produce a machine learning model to predict the median price of a house ( in 1000's of USD) called 'MEDV' given the rest of the features \n",
    "\n",
    "\n",
    "### The steps of Machine Learning Prediction Task\n",
    "1. Import the required libraries\n",
    "2. Load the dataset and view it\n",
    "3. Do a sanity check on the data \n",
    "4. Do the exploratory data analysis(EDA)\n",
    "5. Preprocess the data and do the feature engineering\n",
    "6. Fit the scikit learn machine learning models on the training data \n",
    "7. Evaluate the model performance of the models on the test data \n",
    "8. Optimize/Regularize the Model using RidgeCV, LassoCV, GridSearchCV\n",
    "9. Interpretation of the Model\n",
    "10. Deploy the experimental model using pycaret and streamlit"
   ]
  },
  {
   "cell_type": "markdown",
   "id": "aa801857",
   "metadata": {},
   "source": [
    "### Step1: Load the Libraries \n",
    "- In this step we load all the essential libtraries to do our analysis of the datset and fit the linear models\n"
   ]
  },
  {
   "cell_type": "code",
   "execution_count": 1,
   "id": "35679a13",
   "metadata": {},
   "outputs": [
    {
     "name": "stdout",
     "output_type": "stream",
     "text": [
      " All the libraries are imported\n"
     ]
    }
   ],
   "source": [
    "import pandas as pd  \n",
    "import numpy as np\n",
    "import matplotlib.pyplot as plt\n",
    "import seaborn as sns\n",
    "from sklearn.linear_model import LogisticRegression\n",
    "from sklearn.metrics import accuracy_score, precision_score, recall_score\n",
    "from sklearn.metrics import classification_report\n",
    "from sklearn.model_selection import train_test_split\n",
    "import warnings\n",
    "warnings.filterwarnings(\"ignore\")\n",
    "print(\" All the libraries are imported\")"
   ]
  },
  {
   "cell_type": "markdown",
   "id": "5ca09aef",
   "metadata": {},
   "source": [
    "### Step2: Load the dataset and view it\n",
    "- If it is a .csv or .xlsx file we just use pandas.read_csv or pandas.read_excel"
   ]
  },
  {
   "cell_type": "code",
   "execution_count": 42,
   "id": "88cf857e",
   "metadata": {},
   "outputs": [],
   "source": [
    "# from sklearn.datasets import fetch_openml\n",
    "# housing=fetch_openml(name='house_prices', as_frame=True)\n",
    "from sklearn.datasets import load_iris\n",
    "iris=load_iris()"
   ]
  },
  {
   "cell_type": "code",
   "execution_count": 43,
   "id": "94130261",
   "metadata": {},
   "outputs": [
    {
     "data": {
      "text/plain": [
       "sklearn.utils.Bunch"
      ]
     },
     "execution_count": 43,
     "metadata": {},
     "output_type": "execute_result"
    }
   ],
   "source": [
    "type(iris)"
   ]
  },
  {
   "cell_type": "markdown",
   "id": "55542670",
   "metadata": {},
   "source": [
    "The Boston housing datset is in the form of a data type called Bunch which is like a Dictionary"
   ]
  },
  {
   "cell_type": "code",
   "execution_count": 44,
   "id": "7d627c6a",
   "metadata": {},
   "outputs": [
    {
     "data": {
      "text/plain": [
       "dict_keys(['data', 'target', 'frame', 'target_names', 'DESCR', 'feature_names', 'filename'])"
      ]
     },
     "execution_count": 44,
     "metadata": {},
     "output_type": "execute_result"
    }
   ],
   "source": [
    "# Lets get the keys of the bunch\n",
    "iris.keys()"
   ]
  },
  {
   "cell_type": "code",
   "execution_count": 45,
   "id": "6ff340e3",
   "metadata": {},
   "outputs": [
    {
     "name": "stdout",
     "output_type": "stream",
     "text": [
      ".. _iris_dataset:\n",
      "\n",
      "Iris plants dataset\n",
      "--------------------\n",
      "\n",
      "**Data Set Characteristics:**\n",
      "\n",
      "    :Number of Instances: 150 (50 in each of three classes)\n",
      "    :Number of Attributes: 4 numeric, predictive attributes and the class\n",
      "    :Attribute Information:\n",
      "        - sepal length in cm\n",
      "        - sepal width in cm\n",
      "        - petal length in cm\n",
      "        - petal width in cm\n",
      "        - class:\n",
      "                - Iris-Setosa\n",
      "                - Iris-Versicolour\n",
      "                - Iris-Virginica\n",
      "                \n",
      "    :Summary Statistics:\n",
      "\n",
      "    ============== ==== ==== ======= ===== ====================\n",
      "                    Min  Max   Mean    SD   Class Correlation\n",
      "    ============== ==== ==== ======= ===== ====================\n",
      "    sepal length:   4.3  7.9   5.84   0.83    0.7826\n",
      "    sepal width:    2.0  4.4   3.05   0.43   -0.4194\n",
      "    petal length:   1.0  6.9   3.76   1.76    0.9490  (high!)\n",
      "    petal width:    0.1  2.5   1.20   0.76    0.9565  (high!)\n",
      "    ============== ==== ==== ======= ===== ====================\n",
      "\n",
      "    :Missing Attribute Values: None\n",
      "    :Class Distribution: 33.3% for each of 3 classes.\n",
      "    :Creator: R.A. Fisher\n",
      "    :Donor: Michael Marshall (MARSHALL%PLU@io.arc.nasa.gov)\n",
      "    :Date: July, 1988\n",
      "\n",
      "The famous Iris database, first used by Sir R.A. Fisher. The dataset is taken\n",
      "from Fisher's paper. Note that it's the same as in R, but not as in the UCI\n",
      "Machine Learning Repository, which has two wrong data points.\n",
      "\n",
      "This is perhaps the best known database to be found in the\n",
      "pattern recognition literature.  Fisher's paper is a classic in the field and\n",
      "is referenced frequently to this day.  (See Duda & Hart, for example.)  The\n",
      "data set contains 3 classes of 50 instances each, where each class refers to a\n",
      "type of iris plant.  One class is linearly separable from the other 2; the\n",
      "latter are NOT linearly separable from each other.\n",
      "\n",
      ".. topic:: References\n",
      "\n",
      "   - Fisher, R.A. \"The use of multiple measurements in taxonomic problems\"\n",
      "     Annual Eugenics, 7, Part II, 179-188 (1936); also in \"Contributions to\n",
      "     Mathematical Statistics\" (John Wiley, NY, 1950).\n",
      "   - Duda, R.O., & Hart, P.E. (1973) Pattern Classification and Scene Analysis.\n",
      "     (Q327.D83) John Wiley & Sons.  ISBN 0-471-22361-1.  See page 218.\n",
      "   - Dasarathy, B.V. (1980) \"Nosing Around the Neighborhood: A New System\n",
      "     Structure and Classification Rule for Recognition in Partially Exposed\n",
      "     Environments\".  IEEE Transactions on Pattern Analysis and Machine\n",
      "     Intelligence, Vol. PAMI-2, No. 1, 67-71.\n",
      "   - Gates, G.W. (1972) \"The Reduced Nearest Neighbor Rule\".  IEEE Transactions\n",
      "     on Information Theory, May 1972, 431-433.\n",
      "   - See also: 1988 MLC Proceedings, 54-64.  Cheeseman et al\"s AUTOCLASS II\n",
      "     conceptual clustering system finds 3 classes in the data.\n",
      "   - Many, many more ...\n"
     ]
    }
   ],
   "source": [
    "# Lets access the values of the dDescription key DESCR\n",
    "print(iris.DESCR)"
   ]
  },
  {
   "cell_type": "code",
   "execution_count": 46,
   "id": "e3bb063d",
   "metadata": {},
   "outputs": [],
   "source": [
    "# get the features and target arrays\n",
    "X=iris.data\n",
    "y=iris.target"
   ]
  },
  {
   "cell_type": "code",
   "execution_count": 47,
   "id": "034e68c1",
   "metadata": {},
   "outputs": [
    {
     "data": {
      "text/html": [
       "<div>\n",
       "<style scoped>\n",
       "    .dataframe tbody tr th:only-of-type {\n",
       "        vertical-align: middle;\n",
       "    }\n",
       "\n",
       "    .dataframe tbody tr th {\n",
       "        vertical-align: top;\n",
       "    }\n",
       "\n",
       "    .dataframe thead th {\n",
       "        text-align: right;\n",
       "    }\n",
       "</style>\n",
       "<table border=\"1\" class=\"dataframe\">\n",
       "  <thead>\n",
       "    <tr style=\"text-align: right;\">\n",
       "      <th></th>\n",
       "      <th>sepal length (cm)</th>\n",
       "      <th>sepal width (cm)</th>\n",
       "      <th>petal length (cm)</th>\n",
       "      <th>petal width (cm)</th>\n",
       "      <th>class</th>\n",
       "    </tr>\n",
       "  </thead>\n",
       "  <tbody>\n",
       "    <tr>\n",
       "      <th>0</th>\n",
       "      <td>5.1</td>\n",
       "      <td>3.5</td>\n",
       "      <td>1.4</td>\n",
       "      <td>0.2</td>\n",
       "      <td>0</td>\n",
       "    </tr>\n",
       "    <tr>\n",
       "      <th>1</th>\n",
       "      <td>4.9</td>\n",
       "      <td>3.0</td>\n",
       "      <td>1.4</td>\n",
       "      <td>0.2</td>\n",
       "      <td>0</td>\n",
       "    </tr>\n",
       "    <tr>\n",
       "      <th>2</th>\n",
       "      <td>4.7</td>\n",
       "      <td>3.2</td>\n",
       "      <td>1.3</td>\n",
       "      <td>0.2</td>\n",
       "      <td>0</td>\n",
       "    </tr>\n",
       "    <tr>\n",
       "      <th>3</th>\n",
       "      <td>4.6</td>\n",
       "      <td>3.1</td>\n",
       "      <td>1.5</td>\n",
       "      <td>0.2</td>\n",
       "      <td>0</td>\n",
       "    </tr>\n",
       "    <tr>\n",
       "      <th>4</th>\n",
       "      <td>5.0</td>\n",
       "      <td>3.6</td>\n",
       "      <td>1.4</td>\n",
       "      <td>0.2</td>\n",
       "      <td>0</td>\n",
       "    </tr>\n",
       "  </tbody>\n",
       "</table>\n",
       "</div>"
      ],
      "text/plain": [
       "   sepal length (cm)  sepal width (cm)  petal length (cm)  petal width (cm)  \\\n",
       "0                5.1               3.5                1.4               0.2   \n",
       "1                4.9               3.0                1.4               0.2   \n",
       "2                4.7               3.2                1.3               0.2   \n",
       "3                4.6               3.1                1.5               0.2   \n",
       "4                5.0               3.6                1.4               0.2   \n",
       "\n",
       "   class  \n",
       "0      0  \n",
       "1      0  \n",
       "2      0  \n",
       "3      0  \n",
       "4      0  "
      ]
     },
     "execution_count": 47,
     "metadata": {},
     "output_type": "execute_result"
    }
   ],
   "source": [
    "# convert the Boston bunch data into pandas dataframe\n",
    "df=pd.DataFrame(X, columns=iris.feature_names)\n",
    "df['class']=y\n",
    "df.head()"
   ]
  },
  {
   "cell_type": "code",
   "execution_count": 48,
   "id": "31ab38ee",
   "metadata": {},
   "outputs": [
    {
     "data": {
      "text/html": [
       "<div>\n",
       "<style scoped>\n",
       "    .dataframe tbody tr th:only-of-type {\n",
       "        vertical-align: middle;\n",
       "    }\n",
       "\n",
       "    .dataframe tbody tr th {\n",
       "        vertical-align: top;\n",
       "    }\n",
       "\n",
       "    .dataframe thead th {\n",
       "        text-align: right;\n",
       "    }\n",
       "</style>\n",
       "<table border=\"1\" class=\"dataframe\">\n",
       "  <thead>\n",
       "    <tr style=\"text-align: right;\">\n",
       "      <th></th>\n",
       "      <th>sepal length (cm)</th>\n",
       "      <th>sepal width (cm)</th>\n",
       "      <th>petal length (cm)</th>\n",
       "      <th>petal width (cm)</th>\n",
       "      <th>class</th>\n",
       "    </tr>\n",
       "  </thead>\n",
       "  <tbody>\n",
       "    <tr>\n",
       "      <th>0</th>\n",
       "      <td>5.1</td>\n",
       "      <td>3.5</td>\n",
       "      <td>1.4</td>\n",
       "      <td>0.2</td>\n",
       "      <td>setosa</td>\n",
       "    </tr>\n",
       "    <tr>\n",
       "      <th>1</th>\n",
       "      <td>4.9</td>\n",
       "      <td>3.0</td>\n",
       "      <td>1.4</td>\n",
       "      <td>0.2</td>\n",
       "      <td>setosa</td>\n",
       "    </tr>\n",
       "    <tr>\n",
       "      <th>2</th>\n",
       "      <td>4.7</td>\n",
       "      <td>3.2</td>\n",
       "      <td>1.3</td>\n",
       "      <td>0.2</td>\n",
       "      <td>setosa</td>\n",
       "    </tr>\n",
       "    <tr>\n",
       "      <th>3</th>\n",
       "      <td>4.6</td>\n",
       "      <td>3.1</td>\n",
       "      <td>1.5</td>\n",
       "      <td>0.2</td>\n",
       "      <td>setosa</td>\n",
       "    </tr>\n",
       "    <tr>\n",
       "      <th>4</th>\n",
       "      <td>5.0</td>\n",
       "      <td>3.6</td>\n",
       "      <td>1.4</td>\n",
       "      <td>0.2</td>\n",
       "      <td>setosa</td>\n",
       "    </tr>\n",
       "  </tbody>\n",
       "</table>\n",
       "</div>"
      ],
      "text/plain": [
       "   sepal length (cm)  sepal width (cm)  petal length (cm)  petal width (cm)  \\\n",
       "0                5.1               3.5                1.4               0.2   \n",
       "1                4.9               3.0                1.4               0.2   \n",
       "2                4.7               3.2                1.3               0.2   \n",
       "3                4.6               3.1                1.5               0.2   \n",
       "4                5.0               3.6                1.4               0.2   \n",
       "\n",
       "    class  \n",
       "0  setosa  \n",
       "1  setosa  \n",
       "2  setosa  \n",
       "3  setosa  \n",
       "4  setosa  "
      ]
     },
     "execution_count": 48,
     "metadata": {},
     "output_type": "execute_result"
    }
   ],
   "source": [
    "# Lets encode the outcome variable to identofy the classes\n",
    "d={0:'setosa', 1:'versicolor', 2:'virginica'}\n",
    "df['class']=df['class'].map(d)\n",
    "df.head()"
   ]
  },
  {
   "cell_type": "markdown",
   "id": "06732915",
   "metadata": {},
   "source": [
    "### Step3: Do a sanity check on data\n",
    "This includes looking at the:\n",
    "- shape of the dataset\n",
    "- datatypes of variables-- to look for any consistencies regarding datatypes\n",
    "- descriptives of numerical variables\n",
    "         - to identify any data engineering error, eg where missing values in numerical variables are replaced by 0\n",
    "- To look for any non interpreatble symbols like $ sign in front of prices \n",
    "- Do a value counts for all categorical variables\n",
    "- To Look for inconsistencies among classes of categorical variables ( example if type of is wriiten as 'county' vs.   type 'COUNTY' vs 'County'"
   ]
  },
  {
   "cell_type": "code",
   "execution_count": 49,
   "id": "6abe46bf",
   "metadata": {},
   "outputs": [
    {
     "name": "stdout",
     "output_type": "stream",
     "text": [
      "(150, 5)\n",
      "\n",
      "The number of rows is  150\n",
      "\n",
      "The number of columns is  5\n"
     ]
    }
   ],
   "source": [
    "# get the shape of the dataset\n",
    "print(df.shape)\n",
    "print('')\n",
    "print(\"The number of rows is \", df.shape[0])\n",
    "print('')\n",
    "print(\"The number of columns is \", df.shape[1])"
   ]
  },
  {
   "cell_type": "code",
   "execution_count": 50,
   "id": "dbca4f67",
   "metadata": {},
   "outputs": [
    {
     "data": {
      "text/plain": [
       "sepal length (cm)    float64\n",
       "sepal width (cm)     float64\n",
       "petal length (cm)    float64\n",
       "petal width (cm)     float64\n",
       "class                 object\n",
       "dtype: object"
      ]
     },
     "execution_count": 50,
     "metadata": {},
     "output_type": "execute_result"
    }
   ],
   "source": [
    "# get the data types of the data  \n",
    "df.dtypes\n",
    "\n",
    "# we call also use df.info()"
   ]
  },
  {
   "cell_type": "markdown",
   "id": "4ea7f03c",
   "metadata": {},
   "source": [
    "We see that all variables are numerical having correct datatypes which looks good for this dataset"
   ]
  },
  {
   "cell_type": "code",
   "execution_count": 51,
   "id": "b1ecf68f",
   "metadata": {},
   "outputs": [
    {
     "data": {
      "text/plain": [
       "sepal length (cm)    0\n",
       "sepal width (cm)     0\n",
       "petal length (cm)    0\n",
       "petal width (cm)     0\n",
       "class                0\n",
       "dtype: int64"
      ]
     },
     "execution_count": 51,
     "metadata": {},
     "output_type": "execute_result"
    }
   ],
   "source": [
    "# Identify the columns having null values\n",
    "df.isnull().sum()"
   ]
  },
  {
   "cell_type": "markdown",
   "id": "2a09831d",
   "metadata": {},
   "source": [
    "There are no null values in this datsset"
   ]
  },
  {
   "cell_type": "code",
   "execution_count": 52,
   "id": "aefe2142",
   "metadata": {},
   "outputs": [
    {
     "data": {
      "text/html": [
       "<div>\n",
       "<style scoped>\n",
       "    .dataframe tbody tr th:only-of-type {\n",
       "        vertical-align: middle;\n",
       "    }\n",
       "\n",
       "    .dataframe tbody tr th {\n",
       "        vertical-align: top;\n",
       "    }\n",
       "\n",
       "    .dataframe thead th {\n",
       "        text-align: right;\n",
       "    }\n",
       "</style>\n",
       "<table border=\"1\" class=\"dataframe\">\n",
       "  <thead>\n",
       "    <tr style=\"text-align: right;\">\n",
       "      <th></th>\n",
       "      <th>count</th>\n",
       "      <th>mean</th>\n",
       "      <th>std</th>\n",
       "      <th>min</th>\n",
       "      <th>25%</th>\n",
       "      <th>50%</th>\n",
       "      <th>75%</th>\n",
       "      <th>max</th>\n",
       "    </tr>\n",
       "  </thead>\n",
       "  <tbody>\n",
       "    <tr>\n",
       "      <th>sepal length (cm)</th>\n",
       "      <td>150.0</td>\n",
       "      <td>5.843333</td>\n",
       "      <td>0.828066</td>\n",
       "      <td>4.3</td>\n",
       "      <td>5.1</td>\n",
       "      <td>5.80</td>\n",
       "      <td>6.4</td>\n",
       "      <td>7.9</td>\n",
       "    </tr>\n",
       "    <tr>\n",
       "      <th>sepal width (cm)</th>\n",
       "      <td>150.0</td>\n",
       "      <td>3.057333</td>\n",
       "      <td>0.435866</td>\n",
       "      <td>2.0</td>\n",
       "      <td>2.8</td>\n",
       "      <td>3.00</td>\n",
       "      <td>3.3</td>\n",
       "      <td>4.4</td>\n",
       "    </tr>\n",
       "    <tr>\n",
       "      <th>petal length (cm)</th>\n",
       "      <td>150.0</td>\n",
       "      <td>3.758000</td>\n",
       "      <td>1.765298</td>\n",
       "      <td>1.0</td>\n",
       "      <td>1.6</td>\n",
       "      <td>4.35</td>\n",
       "      <td>5.1</td>\n",
       "      <td>6.9</td>\n",
       "    </tr>\n",
       "    <tr>\n",
       "      <th>petal width (cm)</th>\n",
       "      <td>150.0</td>\n",
       "      <td>1.199333</td>\n",
       "      <td>0.762238</td>\n",
       "      <td>0.1</td>\n",
       "      <td>0.3</td>\n",
       "      <td>1.30</td>\n",
       "      <td>1.8</td>\n",
       "      <td>2.5</td>\n",
       "    </tr>\n",
       "  </tbody>\n",
       "</table>\n",
       "</div>"
      ],
      "text/plain": [
       "                   count      mean       std  min  25%   50%  75%  max\n",
       "sepal length (cm)  150.0  5.843333  0.828066  4.3  5.1  5.80  6.4  7.9\n",
       "sepal width (cm)   150.0  3.057333  0.435866  2.0  2.8  3.00  3.3  4.4\n",
       "petal length (cm)  150.0  3.758000  1.765298  1.0  1.6  4.35  5.1  6.9\n",
       "petal width (cm)   150.0  1.199333  0.762238  0.1  0.3  1.30  1.8  2.5"
      ]
     },
     "execution_count": 52,
     "metadata": {},
     "output_type": "execute_result"
    }
   ],
   "source": [
    "# get the numerical descriptives \n",
    "# .T gives the transpose to mmake the descriptives more readable\n",
    "df.describe().T"
   ]
  },
  {
   "cell_type": "markdown",
   "id": "b0bb00b7",
   "metadata": {},
   "source": [
    "Except class variable none of the columns have minimum value 0 , which also looks good "
   ]
  },
  {
   "cell_type": "markdown",
   "id": "aa111ca8",
   "metadata": {},
   "source": [
    "### Step4: Do an EDA of the data\n",
    "- This is a very extensive process and will differ from datset to datset\n",
    "- We normally do the EDA in the following manner: Univariates Analysis, Bivariate Analysis, Multivariate Analysis, Outlier Analysis, Missing Value Treatment\n",
    "- In univariate analysis we look at the shape and spread of the distrbutions of numerical datas and the class imbalances of categorical data\n",
    "- In bivariate analysis we look at scatter plots, bivaraite boxplots, clustered bar charts and bivariate tables to look for relationships\n",
    "- The aim of EDA is to get patterns and trends from the datset"
   ]
  },
  {
   "cell_type": "markdown",
   "id": "31530062",
   "metadata": {},
   "source": [
    "**Univariate ANalysis**"
   ]
  },
  {
   "cell_type": "code",
   "execution_count": 53,
   "id": "301fea03",
   "metadata": {},
   "outputs": [
    {
     "data": {
      "image/png": "[encoded data removed]",
      "text/plain": [
       "<Figure size 576x396 with 4 Axes>"
      ]
     },
     "metadata": {},
     "output_type": "display_data"
    }
   ],
   "source": [
    "# lets get the univariate graphs of numerical variables\n",
    "df.hist()\n",
    "plt.tight_layout()"
   ]
  },
  {
   "cell_type": "markdown",
   "id": "1cee18c8",
   "metadata": {},
   "source": [
    "Sepal Width has approximately normal distribution whereas other variables need some transformation, but we are going to ignore that in this demo"
   ]
  },
  {
   "cell_type": "code",
   "execution_count": 54,
   "id": "2bf0ae27",
   "metadata": {},
   "outputs": [
    {
     "name": "stdout",
     "output_type": "stream",
     "text": [
      "sepal length (cm)\n"
     ]
    },
    {
     "data": {
      "image/png": "[encoded data removed]",
      "text/plain": [
       "<Figure size 576x396 with 1 Axes>"
      ]
     },
     "metadata": {},
     "output_type": "display_data"
    },
    {
     "name": "stdout",
     "output_type": "stream",
     "text": [
      "****************************************************\n",
      "sepal width (cm)\n"
     ]
    },
    {
     "data": {
      "image/png": "[encoded data removed]",
      "text/plain": [
       "<Figure size 576x396 with 1 Axes>"
      ]
     },
     "metadata": {},
     "output_type": "display_data"
    },
    {
     "name": "stdout",
     "output_type": "stream",
     "text": [
      "****************************************************\n",
      "petal length (cm)\n"
     ]
    },
    {
     "data": {
      "image/png": "[encoded data removed]",
      "text/plain": [
       "<Figure size 576x396 with 1 Axes>"
      ]
     },
     "metadata": {},
     "output_type": "display_data"
    },
    {
     "name": "stdout",
     "output_type": "stream",
     "text": [
      "****************************************************\n",
      "petal width (cm)\n"
     ]
    },
    {
     "data": {
      "image/png": "[encoded data removed]",
      "text/plain": [
       "<Figure size 576x396 with 1 Axes>"
      ]
     },
     "metadata": {},
     "output_type": "display_data"
    },
    {
     "name": "stdout",
     "output_type": "stream",
     "text": [
      "****************************************************\n"
     ]
    }
   ],
   "source": [
    "# look at the individual distribution plots\n",
    "for col in df.select_dtypes(exclude='O').columns:\n",
    "    print(col)\n",
    "    sns.distplot(df[col], kde=True)\n",
    "    plt.show()\n",
    "    print(\"****************************************************\")"
   ]
  },
  {
   "cell_type": "markdown",
   "id": "c9eb0473",
   "metadata": {},
   "source": [
    "The outcome variable MEDV is approximately normally distributed "
   ]
  },
  {
   "cell_type": "code",
   "execution_count": 55,
   "id": "ca65b656",
   "metadata": {},
   "outputs": [
    {
     "data": {
      "text/plain": [
       "<AxesSubplot:>"
      ]
     },
     "execution_count": 55,
     "metadata": {},
     "output_type": "execute_result"
    },
    {
     "data": {
      "image/png": "[encoded data removed]",
      "text/plain": [
       "<Figure size 1080x720 with 2 Axes>"
      ]
     },
     "metadata": {},
     "output_type": "display_data"
    }
   ],
   "source": [
    "#Create a correlation heatmap\n",
    "plt.figure(figsize=(15,10))\n",
    "sns.heatmap(df.corr(), annot=True, cmap='viridis')"
   ]
  },
  {
   "cell_type": "markdown",
   "id": "6d194d45",
   "metadata": {},
   "source": [
    "- We notice a lot of multicollinearity between variables but in this demo we are going to ignore that"
   ]
  },
  {
   "cell_type": "code",
   "execution_count": 56,
   "id": "ed889d7f",
   "metadata": {},
   "outputs": [
    {
     "data": {
      "text/plain": [
       "<seaborn.axisgrid.PairGrid at 0x231b1a7f2b0>"
      ]
     },
     "execution_count": 56,
     "metadata": {},
     "output_type": "execute_result"
    },
    {
     "data": {
      "image/png": "[encoded data removed]",
      "text/plain": [
       "<Figure size 720x720 with 20 Axes>"
      ]
     },
     "metadata": {},
     "output_type": "display_data"
    }
   ],
   "source": [
    "# we make a pairplot to get the bivariate relationships\n",
    "sns.pairplot(df)"
   ]
  },
  {
   "cell_type": "markdown",
   "id": "686f2e86",
   "metadata": {},
   "source": [
    "- We notice almost perfect clustering into 3 seperate classes with respect to Petal Length and Petal Width but we will stick to classification for thos demo"
   ]
  },
  {
   "cell_type": "markdown",
   "id": "a3ca5e79",
   "metadata": {},
   "source": [
    "### Step5: Do the feature pre-processing for Classification\n",
    "- This step inlcudes things like:\n",
    "1. Sepearate the features and label\n",
    "2. Impute the missing values\n",
    "3. Do the label encoding/one-hot encoding for categorical features\n",
    "4. Do the train test split\n",
    "5. Do the feature scaling"
   ]
  },
  {
   "cell_type": "code",
   "execution_count": 57,
   "id": "1945004e",
   "metadata": {},
   "outputs": [],
   "source": [
    "# Seperate the features and the target\n",
    "# Here we are using all features and MEDV as target\n",
    "X=df.drop('class', axis=1)\n",
    "y=df['class']"
   ]
  },
  {
   "cell_type": "markdown",
   "id": "ad960862",
   "metadata": {},
   "source": [
    "Since there are no missing values or categorical variable we got tjhe next step whcih is train-test-split"
   ]
  },
  {
   "cell_type": "code",
   "execution_count": 58,
   "id": "b94ecb49",
   "metadata": {},
   "outputs": [
    {
     "name": "stdout",
     "output_type": "stream",
     "text": [
      "(105, 4) (105,) (45, 4) (45,)\n"
     ]
    }
   ],
   "source": [
    "# Do the train test split\n",
    "from sklearn.model_selection import train_test_split\n",
    "x_train, x_test, y_train, y_test=train_test_split(X, y, test_size=0.3 ,random_state=401)\n",
    "print(x_train.shape, y_train.shape, x_test.shape, y_test.shape)"
   ]
  },
  {
   "cell_type": "code",
   "execution_count": 59,
   "id": "5d45ff0f",
   "metadata": {},
   "outputs": [],
   "source": [
    "# Feature scaling is additional for regression since scikit learn performs feature scaling under the hood, you can test this \n",
    "#by seeing that scaling has no imporvement in the overall performance of regression\n",
    "from sklearn.preprocessing import StandardScaler\n",
    "sc=StandardScaler()\n",
    "x_train=sc.fit_transform(x_train)\n",
    "x_test=sc.transform(x_test)"
   ]
  },
  {
   "cell_type": "markdown",
   "id": "aa993191",
   "metadata": {},
   "source": [
    "### Step6: Fit the classification models on training set\n",
    "- Scikit learn performs classification using many algorithms like decision trees, random forest , KNN, Naive Bayes etc but  needs the data to be as a numpy array or a pandas dataframe\n",
    "- We can optimize the algorithm chosen using GridSearchCV "
   ]
  },
  {
   "cell_type": "markdown",
   "id": "4b5c4d04",
   "metadata": {},
   "source": [
    "**Classification model**"
   ]
  },
  {
   "cell_type": "code",
   "execution_count": 60,
   "id": "acf9ba0e",
   "metadata": {},
   "outputs": [],
   "source": [
    "# instantiate the scikit learn model\n",
    "model_cls=LogisticRegression()\n",
    "\n",
    "# fit the model to the training set \n",
    "model_cls.fit(x_train, y_train)\n",
    "\n",
    "# making prediction on the testing set\n",
    "y_pred=model_cls.predict(x_test)"
   ]
  },
  {
   "cell_type": "markdown",
   "id": "9b038cb0",
   "metadata": {},
   "source": [
    "### Step7: Evaluate the model performance on the Test set "
   ]
  },
  {
   "cell_type": "code",
   "execution_count": 61,
   "id": "9888a02d",
   "metadata": {},
   "outputs": [],
   "source": [
    "# let us create a function for evaluation\n",
    "def evaluate(y_test, y_pred, model_name):\n",
    "    print(\"The model metrics below are for the model \"+model_name)\n",
    "    print('')\n",
    "    print(\"The accuracy score is \", accuracy_score(y_test, y_pred))\n",
    "    print(\"\")\n",
    "    print(\"The recall score is \", recall_score(y_test, y_pred, average=\"weighted\"))\n",
    "    print(\"\")\n",
    "    print(\"The precision score is \", precision_score(y_test, y_pred, average=\"weighted\"))\n",
    "    print(\"\")"
   ]
  },
  {
   "cell_type": "code",
   "execution_count": 62,
   "id": "c826deba",
   "metadata": {},
   "outputs": [
    {
     "name": "stdout",
     "output_type": "stream",
     "text": [
      "The model metrics below are for the model Random Forest Classifier\n",
      "\n",
      "The accuracy score is  0.9777777777777777\n",
      "\n",
      "The recall score is  0.9777777777777777\n",
      "\n",
      "The precision score is  0.9792592592592592\n",
      "\n"
     ]
    }
   ],
   "source": [
    "# Evaluate the metrics for the OLS model\n",
    "evaluate(y_test, y_pred, \"Random Forest Classifier\")"
   ]
  },
  {
   "cell_type": "markdown",
   "id": "75ca9be4",
   "metadata": {},
   "source": [
    "The current Random Forest model performs at a precision score of 97.9 % and recall of 97.7% which is excellent"
   ]
  },
  {
   "cell_type": "markdown",
   "id": "a2750074",
   "metadata": {},
   "source": [
    "**Trying other Classification Models**"
   ]
  },
  {
   "cell_type": "code",
   "execution_count": 63,
   "id": "5fb264a1",
   "metadata": {},
   "outputs": [
    {
     "name": "stdout",
     "output_type": "stream",
     "text": [
      "The model metrics below are for the model Decision Tree Classifier\n",
      "\n",
      "The accuracy score is  0.9777777777777777\n",
      "\n",
      "The recall score is  0.9777777777777777\n",
      "\n",
      "The precision score is  0.9792592592592592\n",
      "\n"
     ]
    }
   ],
   "source": [
    "# We first use Decision Tree  which is an entropy based model\n",
    "from sklearn.tree import DecisionTreeClassifier\n",
    "model_dt=DecisionTreeClassifier()\n",
    "model_dt.fit(x_train, y_train)\n",
    "y_pred=model_dt.predict(x_test)\n",
    "evaluate(y_test, y_pred, 'Decision Tree Classifier')\n"
   ]
  },
  {
   "cell_type": "code",
   "execution_count": 64,
   "id": "93a6030f",
   "metadata": {},
   "outputs": [
    {
     "name": "stdout",
     "output_type": "stream",
     "text": [
      "The model metrics below are for the model Random Forest Classifier\n",
      "\n",
      "The accuracy score is  0.9777777777777777\n",
      "\n",
      "The recall score is  0.9777777777777777\n",
      "\n",
      "The precision score is  0.9792592592592592\n",
      "\n"
     ]
    }
   ],
   "source": [
    "# next we make a Random Forest Regressor\n",
    "from sklearn.ensemble import RandomForestClassifier\n",
    "model_rf=RandomForestClassifier()\n",
    "model_rf.fit(x_train, y_train)\n",
    "y_pred=model_rf.predict(x_test)\n",
    "evaluate(y_test, y_pred, 'Random Forest Classifier')"
   ]
  },
  {
   "cell_type": "code",
   "execution_count": 65,
   "id": "1f29824f",
   "metadata": {},
   "outputs": [
    {
     "name": "stdout",
     "output_type": "stream",
     "text": [
      "The model metrics below are for the model Support Vector Classifier\n",
      "\n",
      "The accuracy score is  0.9777777777777777\n",
      "\n",
      "The recall score is  0.9777777777777777\n",
      "\n",
      "The precision score is  0.9792592592592592\n",
      "\n"
     ]
    }
   ],
   "source": [
    "from sklearn.svm import SVC\n",
    "model_svr=SVC()\n",
    "model_svr.fit(x_train, y_train)\n",
    "y_pred=model_svr.predict(x_test)\n",
    "evaluate(y_test, y_pred, 'Support Vector Classifier')"
   ]
  },
  {
   "cell_type": "code",
   "execution_count": 66,
   "id": "63739aa7",
   "metadata": {},
   "outputs": [
    {
     "name": "stdout",
     "output_type": "stream",
     "text": [
      "The model metrics below are for the model K Nearest Neighbors\n",
      "\n",
      "The accuracy score is  0.9777777777777777\n",
      "\n",
      "The recall score is  0.9777777777777777\n",
      "\n",
      "The precision score is  0.9792592592592592\n",
      "\n"
     ]
    }
   ],
   "source": [
    "from sklearn.neighbors import KNeighborsClassifier\n",
    "model_knn=KNeighborsClassifier()\n",
    "model_knn.fit(x_train, y_train)\n",
    "y_pred=model_knn.predict(x_test)\n",
    "evaluate(y_test, y_pred, 'K Nearest Neighbors')"
   ]
  },
  {
   "cell_type": "markdown",
   "id": "7cb99854",
   "metadata": {},
   "source": [
    "**We see that all model performs excellently oin this dateset with recall score of 0.978 and precision score of o.979. Let us optimize the Random Forest Model using  GridSearchCV before deployment**"
   ]
  },
  {
   "cell_type": "markdown",
   "id": "2a29cbd2",
   "metadata": {},
   "source": [
    "### Step8: Optimization\n",
    "- Optimization is the process of applying GridSearchCv to find optimum hyperparameters for a chosel model so as to enhance the prerformance ( increasing precision/recall) and in reducing overfitting"
   ]
  },
  {
   "cell_type": "markdown",
   "id": "d3d9b66c",
   "metadata": {},
   "source": [
    "**Grid Search CV**"
   ]
  },
  {
   "cell_type": "code",
   "execution_count": 26,
   "id": "3e039965",
   "metadata": {},
   "outputs": [
    {
     "name": "stdout",
     "output_type": "stream",
     "text": [
      "Fitting 10 folds for each of 160 candidates, totalling 1600 fits\n"
     ]
    },
    {
     "name": "stderr",
     "output_type": "stream",
     "text": [
      "[Parallel(n_jobs=-1)]: Using backend LokyBackend with 8 concurrent workers.\n",
      "[Parallel(n_jobs=-1)]: Done  16 tasks      | elapsed:    2.7s\n",
      "[Parallel(n_jobs=-1)]: Done 112 tasks      | elapsed:   12.6s\n",
      "[Parallel(n_jobs=-1)]: Done 272 tasks      | elapsed:   40.4s\n",
      "[Parallel(n_jobs=-1)]: Done 496 tasks      | elapsed:  1.4min\n",
      "[Parallel(n_jobs=-1)]: Done 784 tasks      | elapsed:  2.2min\n",
      "[Parallel(n_jobs=-1)]: Done 1136 tasks      | elapsed:  3.2min\n",
      "[Parallel(n_jobs=-1)]: Done 1552 tasks      | elapsed:  4.4min\n",
      "[Parallel(n_jobs=-1)]: Done 1600 out of 1600 | elapsed:  4.6min finished\n"
     ]
    },
    {
     "name": "stdout",
     "output_type": "stream",
     "text": [
      "Best params are : RandomForestClassifier(max_depth=1, max_features='sqrt', min_samples_leaf=5,\n",
      "                       min_samples_split=3, n_estimators=200)\n",
      "\n",
      "Best score is : 0.9627272727272727\n"
     ]
    }
   ],
   "source": [
    "from sklearn.model_selection import GridSearchCV\n",
    "from sklearn.ensemble import RandomForestClassifier\n",
    "# set the parameter grid\n",
    "n_folds=10\n",
    "param_grid={'n_estimators':[100, 200, 300, 400, 500], 'criterion' : ['entropy','gini'], 'max_depth':[1,10], \n",
    "            'min_samples_leaf':[1,5], 'min_samples_split':[3,9], 'max_features':['sqrt', 'log2'] }\n",
    "\n",
    "grid=GridSearchCV(estimator=model_rf, param_grid=param_grid,n_jobs=-1, cv=n_folds,verbose=3,  return_train_score=False )\n",
    "\n",
    "grid.fit(x_train, y_train)\n",
    "\n",
    "print(\"Best params are :\", grid.best_estimator_)\n",
    "print(\"\")\n",
    "print(\"Best score is :\", grid.best_score_)\n"
   ]
  },
  {
   "cell_type": "code",
   "execution_count": 27,
   "id": "2436c956",
   "metadata": {},
   "outputs": [
    {
     "name": "stdout",
     "output_type": "stream",
     "text": [
      "The model metrics below are for the model Tuned Random Forest\n",
      "\n",
      "The accuracy score is  0.9777777777777777\n",
      "\n",
      "The recall score is  0.9777777777777777\n",
      "\n",
      "The precision score is  0.9792592592592592\n",
      "\n"
     ]
    }
   ],
   "source": [
    "tuned_model_rf=RandomForestClassifier(max_depth=1, max_features='sqrt', min_samples_leaf=5,\n",
    "                       min_samples_split=3, n_estimators=200)\n",
    "tuned_model_rf.fit(x_train, y_train)\n",
    "y_pred=tuned_model_rf.predict(x_test)\n",
    "evaluate(y_test, y_pred, 'Tuned Random Forest')"
   ]
  },
  {
   "cell_type": "markdown",
   "id": "0f709895",
   "metadata": {},
   "source": [
    "We see the tuned model performing better on the test data than the untuned model"
   ]
  },
  {
   "cell_type": "markdown",
   "id": "ea7a2d54",
   "metadata": {},
   "source": [
    "### Step9: Interpretation of the model"
   ]
  },
  {
   "cell_type": "code",
   "execution_count": 28,
   "id": "c0c4863b",
   "metadata": {},
   "outputs": [
    {
     "name": "stdout",
     "output_type": "stream",
     "text": [
      "Requirement already satisfied: shap in c:\\users\\davidpratap\\anaconda3\\envs\\pycaret\\lib\\site-packages (0.40.0)\n",
      "Requirement already satisfied: cloudpickle in c:\\users\\davidpratap\\anaconda3\\envs\\pycaret\\lib\\site-packages (from shap) (2.0.0)\n",
      "Requirement already satisfied: packaging>20.9 in c:\\users\\davidpratap\\anaconda3\\envs\\pycaret\\lib\\site-packages (from shap) (21.3)\n",
      "Requirement already satisfied: pandas in c:\\users\\davidpratap\\anaconda3\\envs\\pycaret\\lib\\site-packages (from shap) (1.3.5)\n",
      "Requirement already satisfied: numpy in c:\\users\\davidpratap\\anaconda3\\envs\\pycaret\\lib\\site-packages (from shap) (1.19.5)\n",
      "Requirement already satisfied: scikit-learn in c:\\users\\davidpratap\\anaconda3\\envs\\pycaret\\lib\\site-packages (from shap) (0.23.2)\n",
      "Requirement already satisfied: tqdm>4.25.0 in c:\\users\\davidpratap\\anaconda3\\envs\\pycaret\\lib\\site-packages (from shap) (4.62.3)\n",
      "Requirement already satisfied: scipy in c:\\users\\davidpratap\\anaconda3\\envs\\pycaret\\lib\\site-packages (from shap) (1.5.4)\n",
      "Requirement already satisfied: numba in c:\\users\\davidpratap\\anaconda3\\envs\\pycaret\\lib\\site-packages (from shap) (0.54.1)\n",
      "Requirement already satisfied: slicer==0.0.7 in c:\\users\\davidpratap\\anaconda3\\envs\\pycaret\\lib\\site-packages (from shap) (0.0.7)\n",
      "Requirement already satisfied: pyparsing!=3.0.5,>=2.0.2 in c:\\users\\davidpratap\\anaconda3\\envs\\pycaret\\lib\\site-packages (from packaging>20.9->shap) (3.0.6)\n",
      "Requirement already satisfied: colorama in c:\\users\\davidpratap\\anaconda3\\envs\\pycaret\\lib\\site-packages (from tqdm>4.25.0->shap) (0.4.4)\n",
      "Requirement already satisfied: llvmlite<0.38,>=0.37.0rc1 in c:\\users\\davidpratap\\anaconda3\\envs\\pycaret\\lib\\site-packages (from numba->shap) (0.37.0)\n",
      "Requirement already satisfied: setuptools in c:\\users\\davidpratap\\anaconda3\\envs\\pycaret\\lib\\site-packages (from numba->shap) (58.0.4)\n",
      "Requirement already satisfied: python-dateutil>=2.7.3 in c:\\users\\davidpratap\\anaconda3\\envs\\pycaret\\lib\\site-packages (from pandas->shap) (2.8.2)\n",
      "Requirement already satisfied: pytz>=2017.3 in c:\\users\\davidpratap\\anaconda3\\envs\\pycaret\\lib\\site-packages (from pandas->shap) (2021.3)\n",
      "Requirement already satisfied: six>=1.5 in c:\\users\\davidpratap\\anaconda3\\envs\\pycaret\\lib\\site-packages (from python-dateutil>=2.7.3->pandas->shap) (1.16.0)\n",
      "Requirement already satisfied: joblib>=0.11 in c:\\users\\davidpratap\\anaconda3\\envs\\pycaret\\lib\\site-packages (from scikit-learn->shap) (1.0.1)\n",
      "Requirement already satisfied: threadpoolctl>=2.0.0 in c:\\users\\davidpratap\\anaconda3\\envs\\pycaret\\lib\\site-packages (from scikit-learn->shap) (3.0.0)\n"
     ]
    }
   ],
   "source": [
    "!pip install shap"
   ]
  },
  {
   "cell_type": "code",
   "execution_count": 29,
   "id": "53cc1840",
   "metadata": {},
   "outputs": [
    {
     "data": {
      "image/png": "[encoded data removed]",
      "text/plain": [
       "<Figure size 576x223.2 with 1 Axes>"
      ]
     },
     "metadata": {
      "needs_background": "light"
     },
     "output_type": "display_data"
    }
   ],
   "source": [
    "# use shap to interpret the model\n",
    "import shap\n",
    "names=X.columns\n",
    "value=shap.TreeExplainer(tuned_model_rf).shap_values(x_test)\n",
    "shap.summary_plot(value, x_train, plot_type='bar', feature_names=names)"
   ]
  },
  {
   "cell_type": "markdown",
   "id": "573f465c",
   "metadata": {},
   "source": [
    "We see that the most important features for predicting the flower species are petal length and petal width"
   ]
  },
  {
   "cell_type": "markdown",
   "id": "879ea124",
   "metadata": {},
   "source": [
    "### Step10: Deploy the Regression Model using Pycaret and Streamlit"
   ]
  },
  {
   "cell_type": "markdown",
   "id": "226fff36",
   "metadata": {},
   "source": [
    "Check out these links for more informaytion on pycaret and streamlit\n",
    "- https://pycaret.org/regression1/\n",
    "- https://streamlit.io/"
   ]
  },
  {
   "cell_type": "code",
   "execution_count": 30,
   "id": "f94d5157",
   "metadata": {},
   "outputs": [
    {
     "name": "stdout",
     "output_type": "stream",
     "text": [
      "Requirement already satisfied: pycaret in c:\\users\\davidpratap\\anaconda3\\envs\\pycaret\\lib\\site-packages (2.3.5)\n",
      "Requirement already satisfied: nltk in c:\\users\\davidpratap\\anaconda3\\envs\\pycaret\\lib\\site-packages (from pycaret) (3.6.6)\n",
      "Requirement already satisfied: spacy<2.4.0 in c:\\users\\davidpratap\\anaconda3\\envs\\pycaret\\lib\\site-packages (from pycaret) (2.3.7)\n",
      "Requirement already satisfied: lightgbm>=2.3.1 in c:\\users\\davidpratap\\anaconda3\\envs\\pycaret\\lib\\site-packages (from pycaret) (3.3.1)\n",
      "Requirement already satisfied: pandas-profiling>=2.8.0 in c:\\users\\davidpratap\\anaconda3\\envs\\pycaret\\lib\\site-packages (from pycaret) (3.1.0)\n",
      "Requirement already satisfied: matplotlib in c:\\users\\davidpratap\\anaconda3\\envs\\pycaret\\lib\\site-packages (from pycaret) (3.5.1)\n",
      "Requirement already satisfied: wordcloud in c:\\users\\davidpratap\\anaconda3\\envs\\pycaret\\lib\\site-packages (from pycaret) (1.8.1)\n",
      "Requirement already satisfied: yellowbrick>=1.0.1 in c:\\users\\davidpratap\\anaconda3\\envs\\pycaret\\lib\\site-packages (from pycaret) (1.3.post1)\n",
      "Requirement already satisfied: joblib in c:\\users\\davidpratap\\anaconda3\\envs\\pycaret\\lib\\site-packages (from pycaret) (1.0.1)\n",
      "Requirement already satisfied: seaborn in c:\\users\\davidpratap\\anaconda3\\envs\\pycaret\\lib\\site-packages (from pycaret) (0.11.2)\n",
      "Requirement already satisfied: cufflinks>=0.17.0 in c:\\users\\davidpratap\\anaconda3\\envs\\pycaret\\lib\\site-packages (from pycaret) (0.17.3)\n",
      "Requirement already satisfied: mlxtend>=0.17.0 in c:\\users\\davidpratap\\anaconda3\\envs\\pycaret\\lib\\site-packages (from pycaret) (0.19.0)\n",
      "Requirement already satisfied: scikit-learn==0.23.2 in c:\\users\\davidpratap\\anaconda3\\envs\\pycaret\\lib\\site-packages (from pycaret) (0.23.2)\n",
      "Requirement already satisfied: pandas in c:\\users\\davidpratap\\anaconda3\\envs\\pycaret\\lib\\site-packages (from pycaret) (1.3.5)\n",
      "Requirement already satisfied: kmodes>=0.10.1 in c:\\users\\davidpratap\\anaconda3\\envs\\pycaret\\lib\\site-packages (from pycaret) (0.11.1)\n",
      "Requirement already satisfied: IPython in c:\\users\\davidpratap\\anaconda3\\envs\\pycaret\\lib\\site-packages (from pycaret) (7.30.1)\n",
      "Requirement already satisfied: ipywidgets in c:\\users\\davidpratap\\anaconda3\\envs\\pycaret\\lib\\site-packages (from pycaret) (7.6.5)\n",
      "Requirement already satisfied: scipy<=1.5.4 in c:\\users\\davidpratap\\anaconda3\\envs\\pycaret\\lib\\site-packages (from pycaret) (1.5.4)\n",
      "Requirement already satisfied: textblob in c:\\users\\davidpratap\\anaconda3\\envs\\pycaret\\lib\\site-packages (from pycaret) (0.17.1)\n",
      "Requirement already satisfied: gensim<4.0.0 in c:\\users\\davidpratap\\anaconda3\\envs\\pycaret\\lib\\site-packages (from pycaret) (3.8.3)\n",
      "Requirement already satisfied: mlflow in c:\\users\\davidpratap\\anaconda3\\envs\\pycaret\\lib\\site-packages (from pycaret) (1.22.0)\n",
      "Requirement already satisfied: scikit-plot in c:\\users\\davidpratap\\anaconda3\\envs\\pycaret\\lib\\site-packages (from pycaret) (0.3.7)\n",
      "Requirement already satisfied: umap-learn in c:\\users\\davidpratap\\anaconda3\\envs\\pycaret\\lib\\site-packages (from pycaret) (0.5.2)\n",
      "Requirement already satisfied: numpy==1.19.5 in c:\\users\\davidpratap\\anaconda3\\envs\\pycaret\\lib\\site-packages (from pycaret) (1.19.5)\n",
      "Requirement already satisfied: Boruta in c:\\users\\davidpratap\\anaconda3\\envs\\pycaret\\lib\\site-packages (from pycaret) (0.3)\n",
      "Requirement already satisfied: imbalanced-learn==0.7.0 in c:\\users\\davidpratap\\anaconda3\\envs\\pycaret\\lib\\site-packages (from pycaret) (0.7.0)\n",
      "Requirement already satisfied: plotly>=4.4.1 in c:\\users\\davidpratap\\anaconda3\\envs\\pycaret\\lib\\site-packages (from pycaret) (5.5.0)\n",
      "Requirement already satisfied: pyod in c:\\users\\davidpratap\\anaconda3\\envs\\pycaret\\lib\\site-packages (from pycaret) (0.9.5)\n",
      "Requirement already satisfied: pyLDAvis in c:\\users\\davidpratap\\anaconda3\\envs\\pycaret\\lib\\site-packages (from pycaret) (3.2.2)\n",
      "Requirement already satisfied: threadpoolctl>=2.0.0 in c:\\users\\davidpratap\\anaconda3\\envs\\pycaret\\lib\\site-packages (from scikit-learn==0.23.2->pycaret) (3.0.0)\n",
      "Requirement already satisfied: six>=1.9.0 in c:\\users\\davidpratap\\anaconda3\\envs\\pycaret\\lib\\site-packages (from cufflinks>=0.17.0->pycaret) (1.16.0)\n",
      "Requirement already satisfied: setuptools>=34.4.1 in c:\\users\\davidpratap\\anaconda3\\envs\\pycaret\\lib\\site-packages (from cufflinks>=0.17.0->pycaret) (58.0.4)\n",
      "Requirement already satisfied: colorlover>=0.2.1 in c:\\users\\davidpratap\\anaconda3\\envs\\pycaret\\lib\\site-packages (from cufflinks>=0.17.0->pycaret) (0.3.0)\n",
      "Requirement already satisfied: Cython==0.29.14 in c:\\users\\davidpratap\\anaconda3\\envs\\pycaret\\lib\\site-packages (from gensim<4.0.0->pycaret) (0.29.14)\n",
      "Requirement already satisfied: smart-open>=1.8.1 in c:\\users\\davidpratap\\anaconda3\\envs\\pycaret\\lib\\site-packages (from gensim<4.0.0->pycaret) (5.2.1)\n",
      "Requirement already satisfied: decorator in c:\\users\\davidpratap\\anaconda3\\envs\\pycaret\\lib\\site-packages (from IPython->pycaret) (5.1.0)\n",
      "Requirement already satisfied: prompt-toolkit!=3.0.0,!=3.0.1,<3.1.0,>=2.0.0 in c:\\users\\davidpratap\\anaconda3\\envs\\pycaret\\lib\\site-packages (from IPython->pycaret) (3.0.24)\n",
      "Requirement already satisfied: pickleshare in c:\\users\\davidpratap\\anaconda3\\envs\\pycaret\\lib\\site-packages (from IPython->pycaret) (0.7.5)\n",
      "Requirement already satisfied: backcall in c:\\users\\davidpratap\\anaconda3\\envs\\pycaret\\lib\\site-packages (from IPython->pycaret) (0.2.0)\n",
      "Requirement already satisfied: colorama in c:\\users\\davidpratap\\anaconda3\\envs\\pycaret\\lib\\site-packages (from IPython->pycaret) (0.4.4)\n",
      "Requirement already satisfied: traitlets>=4.2 in c:\\users\\davidpratap\\anaconda3\\envs\\pycaret\\lib\\site-packages (from IPython->pycaret) (5.1.1)\n",
      "Requirement already satisfied: jedi>=0.16 in c:\\users\\davidpratap\\anaconda3\\envs\\pycaret\\lib\\site-packages (from IPython->pycaret) (0.18.1)\n",
      "Requirement already satisfied: pygments in c:\\users\\davidpratap\\anaconda3\\envs\\pycaret\\lib\\site-packages (from IPython->pycaret) (2.10.0)\n",
      "Requirement already satisfied: matplotlib-inline in c:\\users\\davidpratap\\anaconda3\\envs\\pycaret\\lib\\site-packages (from IPython->pycaret) (0.1.3)\n",
      "Requirement already satisfied: jupyterlab-widgets>=1.0.0 in c:\\users\\davidpratap\\anaconda3\\envs\\pycaret\\lib\\site-packages (from ipywidgets->pycaret) (1.0.2)\n",
      "Requirement already satisfied: ipykernel>=4.5.1 in c:\\users\\davidpratap\\anaconda3\\envs\\pycaret\\lib\\site-packages (from ipywidgets->pycaret) (6.6.0)\n",
      "Requirement already satisfied: ipython-genutils~=0.2.0 in c:\\users\\davidpratap\\anaconda3\\envs\\pycaret\\lib\\site-packages (from ipywidgets->pycaret) (0.2.0)\n",
      "Requirement already satisfied: widgetsnbextension~=3.5.0 in c:\\users\\davidpratap\\anaconda3\\envs\\pycaret\\lib\\site-packages (from ipywidgets->pycaret) (3.5.2)\n",
      "Requirement already satisfied: nbformat>=4.2.0 in c:\\users\\davidpratap\\anaconda3\\envs\\pycaret\\lib\\site-packages (from ipywidgets->pycaret) (5.1.3)\n",
      "Requirement already satisfied: debugpy<2.0,>=1.0.0 in c:\\users\\davidpratap\\anaconda3\\envs\\pycaret\\lib\\site-packages (from ipykernel>=4.5.1->ipywidgets->pycaret) (1.5.1)\n",
      "Requirement already satisfied: tornado<7.0,>=4.2 in c:\\users\\davidpratap\\anaconda3\\envs\\pycaret\\lib\\site-packages (from ipykernel>=4.5.1->ipywidgets->pycaret) (6.1)\n",
      "Requirement already satisfied: jupyter-client<8.0 in c:\\users\\davidpratap\\anaconda3\\envs\\pycaret\\lib\\site-packages (from ipykernel>=4.5.1->ipywidgets->pycaret) (7.1.0)\n",
      "Requirement already satisfied: parso<0.9.0,>=0.8.0 in c:\\users\\davidpratap\\anaconda3\\envs\\pycaret\\lib\\site-packages (from jedi>=0.16->IPython->pycaret) (0.8.3)\n",
      "Requirement already satisfied: jupyter-core>=4.6.0 in c:\\users\\davidpratap\\anaconda3\\envs\\pycaret\\lib\\site-packages (from jupyter-client<8.0->ipykernel>=4.5.1->ipywidgets->pycaret) (4.9.1)\n",
      "Requirement already satisfied: entrypoints in c:\\users\\davidpratap\\anaconda3\\envs\\pycaret\\lib\\site-packages (from jupyter-client<8.0->ipykernel>=4.5.1->ipywidgets->pycaret) (0.3)\n",
      "Requirement already satisfied: nest-asyncio>=1.5 in c:\\users\\davidpratap\\anaconda3\\envs\\pycaret\\lib\\site-packages (from jupyter-client<8.0->ipykernel>=4.5.1->ipywidgets->pycaret) (1.5.4)\n",
      "Requirement already satisfied: pyzmq>=13 in c:\\users\\davidpratap\\anaconda3\\envs\\pycaret\\lib\\site-packages (from jupyter-client<8.0->ipykernel>=4.5.1->ipywidgets->pycaret) (22.3.0)\n",
      "Requirement already satisfied: python-dateutil>=2.1 in c:\\users\\davidpratap\\anaconda3\\envs\\pycaret\\lib\\site-packages (from jupyter-client<8.0->ipykernel>=4.5.1->ipywidgets->pycaret) (2.8.2)\n",
      "Requirement already satisfied: pywin32>=1.0 in c:\\users\\davidpratap\\anaconda3\\envs\\pycaret\\lib\\site-packages (from jupyter-core>=4.6.0->jupyter-client<8.0->ipykernel>=4.5.1->ipywidgets->pycaret) (227)\n",
      "Requirement already satisfied: wheel in c:\\users\\davidpratap\\anaconda3\\envs\\pycaret\\lib\\site-packages (from lightgbm>=2.3.1->pycaret) (0.37.0)\n",
      "Requirement already satisfied: cycler>=0.10 in c:\\users\\davidpratap\\anaconda3\\envs\\pycaret\\lib\\site-packages (from matplotlib->pycaret) (0.11.0)\n",
      "Requirement already satisfied: fonttools>=4.22.0 in c:\\users\\davidpratap\\anaconda3\\envs\\pycaret\\lib\\site-packages (from matplotlib->pycaret) (4.28.5)\n",
      "Requirement already satisfied: kiwisolver>=1.0.1 in c:\\users\\davidpratap\\anaconda3\\envs\\pycaret\\lib\\site-packages (from matplotlib->pycaret) (1.3.2)\n",
      "Requirement already satisfied: packaging>=20.0 in c:\\users\\davidpratap\\anaconda3\\envs\\pycaret\\lib\\site-packages (from matplotlib->pycaret) (21.3)\n",
      "Requirement already satisfied: pillow>=6.2.0 in c:\\users\\davidpratap\\anaconda3\\envs\\pycaret\\lib\\site-packages (from matplotlib->pycaret) (8.4.0)\n",
      "Requirement already satisfied: pyparsing>=2.2.1 in c:\\users\\davidpratap\\anaconda3\\envs\\pycaret\\lib\\site-packages (from matplotlib->pycaret) (3.0.6)\n",
      "Requirement already satisfied: jsonschema!=2.5.0,>=2.4 in c:\\users\\davidpratap\\anaconda3\\envs\\pycaret\\lib\\site-packages (from nbformat>=4.2.0->ipywidgets->pycaret) (4.3.2)\n",
      "Requirement already satisfied: pyrsistent!=0.17.0,!=0.17.1,!=0.17.2,>=0.14.0 in c:\\users\\davidpratap\\anaconda3\\envs\\pycaret\\lib\\site-packages (from jsonschema!=2.5.0,>=2.4->nbformat>=4.2.0->ipywidgets->pycaret) (0.18.0)\n",
      "Requirement already satisfied: attrs>=17.4.0 in c:\\users\\davidpratap\\anaconda3\\envs\\pycaret\\lib\\site-packages (from jsonschema!=2.5.0,>=2.4->nbformat>=4.2.0->ipywidgets->pycaret) (21.2.0)\n",
      "Requirement already satisfied: importlib-resources>=1.4.0 in c:\\users\\davidpratap\\anaconda3\\envs\\pycaret\\lib\\site-packages (from jsonschema!=2.5.0,>=2.4->nbformat>=4.2.0->ipywidgets->pycaret) (5.4.0)\n",
      "Requirement already satisfied: zipp>=3.1.0 in c:\\users\\davidpratap\\anaconda3\\envs\\pycaret\\lib\\site-packages (from importlib-resources>=1.4.0->jsonschema!=2.5.0,>=2.4->nbformat>=4.2.0->ipywidgets->pycaret) (3.6.0)\n",
      "Requirement already satisfied: pytz>=2017.3 in c:\\users\\davidpratap\\anaconda3\\envs\\pycaret\\lib\\site-packages (from pandas->pycaret) (2021.3)\n",
      "Requirement already satisfied: requests>=2.24.0 in c:\\users\\davidpratap\\anaconda3\\envs\\pycaret\\lib\\site-packages (from pandas-profiling>=2.8.0->pycaret) (2.26.0)\n",
      "Requirement already satisfied: markupsafe~=2.0.1 in c:\\users\\davidpratap\\anaconda3\\envs\\pycaret\\lib\\site-packages (from pandas-profiling>=2.8.0->pycaret) (2.0.1)\n",
      "Requirement already satisfied: missingno>=0.4.2 in c:\\users\\davidpratap\\anaconda3\\envs\\pycaret\\lib\\site-packages (from pandas-profiling>=2.8.0->pycaret) (0.5.0)\n",
      "Requirement already satisfied: pydantic>=1.8.1 in c:\\users\\davidpratap\\anaconda3\\envs\\pycaret\\lib\\site-packages (from pandas-profiling>=2.8.0->pycaret) (1.8.2)\n",
      "Requirement already satisfied: PyYAML>=5.0.0 in c:\\users\\davidpratap\\anaconda3\\envs\\pycaret\\lib\\site-packages (from pandas-profiling>=2.8.0->pycaret) (6.0)\n",
      "Requirement already satisfied: phik>=0.11.1 in c:\\users\\davidpratap\\anaconda3\\envs\\pycaret\\lib\\site-packages (from pandas-profiling>=2.8.0->pycaret) (0.12.0)\n",
      "Requirement already satisfied: multimethod>=1.4 in c:\\users\\davidpratap\\anaconda3\\envs\\pycaret\\lib\\site-packages (from pandas-profiling>=2.8.0->pycaret) (1.6)\n",
      "Requirement already satisfied: tqdm>=4.48.2 in c:\\users\\davidpratap\\anaconda3\\envs\\pycaret\\lib\\site-packages (from pandas-profiling>=2.8.0->pycaret) (4.62.3)\n",
      "Requirement already satisfied: htmlmin>=0.1.12 in c:\\users\\davidpratap\\anaconda3\\envs\\pycaret\\lib\\site-packages (from pandas-profiling>=2.8.0->pycaret) (0.1.12)\n",
      "Requirement already satisfied: jinja2>=2.11.1 in c:\\users\\davidpratap\\anaconda3\\envs\\pycaret\\lib\\site-packages (from pandas-profiling>=2.8.0->pycaret) (3.0.3)\n",
      "Requirement already satisfied: tangled-up-in-unicode==0.1.0 in c:\\users\\davidpratap\\anaconda3\\envs\\pycaret\\lib\\site-packages (from pandas-profiling>=2.8.0->pycaret) (0.1.0)\n",
      "Requirement already satisfied: visions[type_image_path]==0.7.4 in c:\\users\\davidpratap\\anaconda3\\envs\\pycaret\\lib\\site-packages (from pandas-profiling>=2.8.0->pycaret) (0.7.4)\n",
      "Requirement already satisfied: networkx>=2.4 in c:\\users\\davidpratap\\anaconda3\\envs\\pycaret\\lib\\site-packages (from visions[type_image_path]==0.7.4->pandas-profiling>=2.8.0->pycaret) (2.6.3)\n",
      "Requirement already satisfied: imagehash in c:\\users\\davidpratap\\anaconda3\\envs\\pycaret\\lib\\site-packages (from visions[type_image_path]==0.7.4->pandas-profiling>=2.8.0->pycaret) (4.2.1)\n",
      "Requirement already satisfied: tenacity>=6.2.0 in c:\\users\\davidpratap\\anaconda3\\envs\\pycaret\\lib\\site-packages (from plotly>=4.4.1->pycaret) (8.0.1)\n",
      "Requirement already satisfied: wcwidth in c:\\users\\davidpratap\\anaconda3\\envs\\pycaret\\lib\\site-packages (from prompt-toolkit!=3.0.0,!=3.0.1,<3.1.0,>=2.0.0->IPython->pycaret) (0.2.5)\n",
      "Requirement already satisfied: typing-extensions>=3.7.4.3 in c:\\users\\davidpratap\\anaconda3\\envs\\pycaret\\lib\\site-packages (from pydantic>=1.8.1->pandas-profiling>=2.8.0->pycaret) (4.0.1)\n",
      "Requirement already satisfied: idna<4,>=2.5 in c:\\users\\davidpratap\\anaconda3\\envs\\pycaret\\lib\\site-packages (from requests>=2.24.0->pandas-profiling>=2.8.0->pycaret) (3.3)\n",
      "Requirement already satisfied: urllib3<1.27,>=1.21.1 in c:\\users\\davidpratap\\anaconda3\\envs\\pycaret\\lib\\site-packages (from requests>=2.24.0->pandas-profiling>=2.8.0->pycaret) (1.26.7)\n",
      "Requirement already satisfied: charset-normalizer~=2.0.0 in c:\\users\\davidpratap\\anaconda3\\envs\\pycaret\\lib\\site-packages (from requests>=2.24.0->pandas-profiling>=2.8.0->pycaret) (2.0.9)\n",
      "Requirement already satisfied: certifi>=2017.4.17 in c:\\users\\davidpratap\\anaconda3\\envs\\pycaret\\lib\\site-packages (from requests>=2.24.0->pandas-profiling>=2.8.0->pycaret) (2021.10.8)\n",
      "Requirement already satisfied: cymem<2.1.0,>=2.0.2 in c:\\users\\davidpratap\\anaconda3\\envs\\pycaret\\lib\\site-packages (from spacy<2.4.0->pycaret) (2.0.6)\n",
      "Requirement already satisfied: wasabi<1.1.0,>=0.4.0 in c:\\users\\davidpratap\\anaconda3\\envs\\pycaret\\lib\\site-packages (from spacy<2.4.0->pycaret) (0.9.0)\n",
      "Requirement already satisfied: srsly<1.1.0,>=1.0.2 in c:\\users\\davidpratap\\anaconda3\\envs\\pycaret\\lib\\site-packages (from spacy<2.4.0->pycaret) (1.0.5)\n",
      "Requirement already satisfied: murmurhash<1.1.0,>=0.28.0 in c:\\users\\davidpratap\\anaconda3\\envs\\pycaret\\lib\\site-packages (from spacy<2.4.0->pycaret) (1.0.6)\n",
      "Requirement already satisfied: thinc<7.5.0,>=7.4.1 in c:\\users\\davidpratap\\anaconda3\\envs\\pycaret\\lib\\site-packages (from spacy<2.4.0->pycaret) (7.4.5)\n",
      "Requirement already satisfied: blis<0.8.0,>=0.4.0 in c:\\users\\davidpratap\\anaconda3\\envs\\pycaret\\lib\\site-packages (from spacy<2.4.0->pycaret) (0.7.5)\n",
      "Requirement already satisfied: preshed<3.1.0,>=3.0.2 in c:\\users\\davidpratap\\anaconda3\\envs\\pycaret\\lib\\site-packages (from spacy<2.4.0->pycaret) (3.0.6)\n",
      "Requirement already satisfied: plac<1.2.0,>=0.9.6 in c:\\users\\davidpratap\\anaconda3\\envs\\pycaret\\lib\\site-packages (from spacy<2.4.0->pycaret) (1.1.3)\n",
      "Requirement already satisfied: catalogue<1.1.0,>=0.0.7 in c:\\users\\davidpratap\\anaconda3\\envs\\pycaret\\lib\\site-packages (from spacy<2.4.0->pycaret) (1.0.0)\n",
      "Requirement already satisfied: notebook>=4.4.1 in c:\\users\\davidpratap\\anaconda3\\envs\\pycaret\\lib\\site-packages (from widgetsnbextension~=3.5.0->ipywidgets->pycaret) (6.4.6)\n",
      "Requirement already satisfied: argon2-cffi in c:\\users\\davidpratap\\anaconda3\\envs\\pycaret\\lib\\site-packages (from notebook>=4.4.1->widgetsnbextension~=3.5.0->ipywidgets->pycaret) (21.3.0)\n",
      "Requirement already satisfied: terminado>=0.8.3 in c:\\users\\davidpratap\\anaconda3\\envs\\pycaret\\lib\\site-packages (from notebook>=4.4.1->widgetsnbextension~=3.5.0->ipywidgets->pycaret) (0.12.1)\n",
      "Requirement already satisfied: prometheus-client in c:\\users\\davidpratap\\anaconda3\\envs\\pycaret\\lib\\site-packages (from notebook>=4.4.1->widgetsnbextension~=3.5.0->ipywidgets->pycaret) (0.12.0)\n",
      "Requirement already satisfied: Send2Trash>=1.8.0 in c:\\users\\davidpratap\\anaconda3\\envs\\pycaret\\lib\\site-packages (from notebook>=4.4.1->widgetsnbextension~=3.5.0->ipywidgets->pycaret) (1.8.0)\n",
      "Requirement already satisfied: nbconvert in c:\\users\\davidpratap\\anaconda3\\envs\\pycaret\\lib\\site-packages (from notebook>=4.4.1->widgetsnbextension~=3.5.0->ipywidgets->pycaret) (6.3.0)\n",
      "Requirement already satisfied: pywinpty>=1.1.0 in c:\\users\\davidpratap\\anaconda3\\envs\\pycaret\\lib\\site-packages (from terminado>=0.8.3->notebook>=4.4.1->widgetsnbextension~=3.5.0->ipywidgets->pycaret) (1.1.6)\n",
      "Requirement already satisfied: argon2-cffi-bindings in c:\\users\\davidpratap\\anaconda3\\envs\\pycaret\\lib\\site-packages (from argon2-cffi->notebook>=4.4.1->widgetsnbextension~=3.5.0->ipywidgets->pycaret) (21.2.0)\n",
      "Requirement already satisfied: cffi>=1.0.1 in c:\\users\\davidpratap\\anaconda3\\envs\\pycaret\\lib\\site-packages (from argon2-cffi-bindings->argon2-cffi->notebook>=4.4.1->widgetsnbextension~=3.5.0->ipywidgets->pycaret) (1.15.0)\n",
      "Requirement already satisfied: pycparser in c:\\users\\davidpratap\\anaconda3\\envs\\pycaret\\lib\\site-packages (from cffi>=1.0.1->argon2-cffi-bindings->argon2-cffi->notebook>=4.4.1->widgetsnbextension~=3.5.0->ipywidgets->pycaret) (2.21)\n",
      "Requirement already satisfied: PyWavelets in c:\\users\\davidpratap\\anaconda3\\envs\\pycaret\\lib\\site-packages (from imagehash->visions[type_image_path]==0.7.4->pandas-profiling>=2.8.0->pycaret) (1.2.0)\n",
      "Requirement already satisfied: sqlalchemy in c:\\users\\davidpratap\\anaconda3\\envs\\pycaret\\lib\\site-packages (from mlflow->pycaret) (1.4.29)\n",
      "Requirement already satisfied: click>=7.0 in c:\\users\\davidpratap\\anaconda3\\envs\\pycaret\\lib\\site-packages (from mlflow->pycaret) (7.1.2)\n",
      "Requirement already satisfied: waitress in c:\\users\\davidpratap\\anaconda3\\envs\\pycaret\\lib\\site-packages (from mlflow->pycaret) (2.0.0)\n",
      "Requirement already satisfied: Flask in c:\\users\\davidpratap\\anaconda3\\envs\\pycaret\\lib\\site-packages (from mlflow->pycaret) (2.0.2)\n",
      "Requirement already satisfied: gitpython>=2.1.0 in c:\\users\\davidpratap\\anaconda3\\envs\\pycaret\\lib\\site-packages (from mlflow->pycaret) (3.1.24)\n",
      "Requirement already satisfied: protobuf>=3.7.0 in c:\\users\\davidpratap\\anaconda3\\envs\\pycaret\\lib\\site-packages (from mlflow->pycaret) (3.19.1)\n",
      "Requirement already satisfied: databricks-cli>=0.8.7 in c:\\users\\davidpratap\\anaconda3\\envs\\pycaret\\lib\\site-packages (from mlflow->pycaret) (0.16.2)\n",
      "Requirement already satisfied: sqlparse>=0.3.1 in c:\\users\\davidpratap\\anaconda3\\envs\\pycaret\\lib\\site-packages (from mlflow->pycaret) (0.4.2)\n",
      "Requirement already satisfied: docker>=4.0.0 in c:\\users\\davidpratap\\anaconda3\\envs\\pycaret\\lib\\site-packages (from mlflow->pycaret) (5.0.3)\n",
      "Requirement already satisfied: querystring-parser in c:\\users\\davidpratap\\anaconda3\\envs\\pycaret\\lib\\site-packages (from mlflow->pycaret) (1.2.4)\n",
      "Requirement already satisfied: cloudpickle in c:\\users\\davidpratap\\anaconda3\\envs\\pycaret\\lib\\site-packages (from mlflow->pycaret) (2.0.0)\n",
      "Requirement already satisfied: importlib-metadata!=4.7.0,>=3.7.0 in c:\\users\\davidpratap\\anaconda3\\envs\\pycaret\\lib\\site-packages (from mlflow->pycaret) (4.10.0)\n",
      "Requirement already satisfied: alembic<=1.4.1 in c:\\users\\davidpratap\\anaconda3\\envs\\pycaret\\lib\\site-packages (from mlflow->pycaret) (1.4.1)\n",
      "Requirement already satisfied: prometheus-flask-exporter in c:\\users\\davidpratap\\anaconda3\\envs\\pycaret\\lib\\site-packages (from mlflow->pycaret) (0.18.6)\n",
      "Requirement already satisfied: Mako in c:\\users\\davidpratap\\anaconda3\\envs\\pycaret\\lib\\site-packages (from alembic<=1.4.1->mlflow->pycaret) (1.1.6)\n",
      "Requirement already satisfied: python-editor>=0.3 in c:\\users\\davidpratap\\anaconda3\\envs\\pycaret\\lib\\site-packages (from alembic<=1.4.1->mlflow->pycaret) (1.0.4)\n",
      "Requirement already satisfied: tabulate>=0.7.7 in c:\\users\\davidpratap\\anaconda3\\envs\\pycaret\\lib\\site-packages (from databricks-cli>=0.8.7->mlflow->pycaret) (0.8.9)\n",
      "Requirement already satisfied: websocket-client>=0.32.0 in c:\\users\\davidpratap\\anaconda3\\envs\\pycaret\\lib\\site-packages (from docker>=4.0.0->mlflow->pycaret) (1.2.3)\n",
      "Requirement already satisfied: gitdb<5,>=4.0.1 in c:\\users\\davidpratap\\anaconda3\\envs\\pycaret\\lib\\site-packages (from gitpython>=2.1.0->mlflow->pycaret) (4.0.9)\n",
      "Requirement already satisfied: smmap<6,>=3.0.1 in c:\\users\\davidpratap\\anaconda3\\envs\\pycaret\\lib\\site-packages (from gitdb<5,>=4.0.1->gitpython>=2.1.0->mlflow->pycaret) (5.0.0)\n",
      "Requirement already satisfied: greenlet!=0.4.17 in c:\\users\\davidpratap\\anaconda3\\envs\\pycaret\\lib\\site-packages (from sqlalchemy->mlflow->pycaret) (1.1.2)\n",
      "Requirement already satisfied: Werkzeug>=2.0 in c:\\users\\davidpratap\\anaconda3\\envs\\pycaret\\lib\\site-packages (from Flask->mlflow->pycaret) (2.0.2)\n",
      "Requirement already satisfied: itsdangerous>=2.0 in c:\\users\\davidpratap\\anaconda3\\envs\\pycaret\\lib\\site-packages (from Flask->mlflow->pycaret) (2.0.1)\n",
      "Requirement already satisfied: defusedxml in c:\\users\\davidpratap\\anaconda3\\envs\\pycaret\\lib\\site-packages (from nbconvert->notebook>=4.4.1->widgetsnbextension~=3.5.0->ipywidgets->pycaret) (0.7.1)\n",
      "Requirement already satisfied: mistune<2,>=0.8.1 in c:\\users\\davidpratap\\anaconda3\\envs\\pycaret\\lib\\site-packages (from nbconvert->notebook>=4.4.1->widgetsnbextension~=3.5.0->ipywidgets->pycaret) (0.8.4)\n",
      "Requirement already satisfied: jupyterlab-pygments in c:\\users\\davidpratap\\anaconda3\\envs\\pycaret\\lib\\site-packages (from nbconvert->notebook>=4.4.1->widgetsnbextension~=3.5.0->ipywidgets->pycaret) (0.1.2)\n",
      "Requirement already satisfied: testpath in c:\\users\\davidpratap\\anaconda3\\envs\\pycaret\\lib\\site-packages (from nbconvert->notebook>=4.4.1->widgetsnbextension~=3.5.0->ipywidgets->pycaret) (0.5.0)\n",
      "Requirement already satisfied: nbclient<0.6.0,>=0.5.0 in c:\\users\\davidpratap\\anaconda3\\envs\\pycaret\\lib\\site-packages (from nbconvert->notebook>=4.4.1->widgetsnbextension~=3.5.0->ipywidgets->pycaret) (0.5.9)\n",
      "Requirement already satisfied: pandocfilters>=1.4.1 in c:\\users\\davidpratap\\anaconda3\\envs\\pycaret\\lib\\site-packages (from nbconvert->notebook>=4.4.1->widgetsnbextension~=3.5.0->ipywidgets->pycaret) (1.5.0)\n",
      "Requirement already satisfied: bleach in c:\\users\\davidpratap\\anaconda3\\envs\\pycaret\\lib\\site-packages (from nbconvert->notebook>=4.4.1->widgetsnbextension~=3.5.0->ipywidgets->pycaret) (4.1.0)\n",
      "Requirement already satisfied: webencodings in c:\\users\\davidpratap\\anaconda3\\envs\\pycaret\\lib\\site-packages (from bleach->nbconvert->notebook>=4.4.1->widgetsnbextension~=3.5.0->ipywidgets->pycaret) (0.5.1)\n",
      "Requirement already satisfied: regex>=2021.8.3 in c:\\users\\davidpratap\\anaconda3\\envs\\pycaret\\lib\\site-packages (from nltk->pycaret) (2021.11.10)\n",
      "Requirement already satisfied: funcy in c:\\users\\davidpratap\\anaconda3\\envs\\pycaret\\lib\\site-packages (from pyLDAvis->pycaret) (1.17)\n",
      "Requirement already satisfied: numexpr in c:\\users\\davidpratap\\anaconda3\\envs\\pycaret\\lib\\site-packages (from pyLDAvis->pycaret) (2.8.1)\n",
      "Requirement already satisfied: future in c:\\users\\davidpratap\\anaconda3\\envs\\pycaret\\lib\\site-packages (from pyLDAvis->pycaret) (0.18.2)\n",
      "Requirement already satisfied: numba>=0.35 in c:\\users\\davidpratap\\anaconda3\\envs\\pycaret\\lib\\site-packages (from pyod->pycaret) (0.54.1)\n",
      "Requirement already satisfied: statsmodels in c:\\users\\davidpratap\\anaconda3\\envs\\pycaret\\lib\\site-packages (from pyod->pycaret) (0.13.1)\n",
      "Requirement already satisfied: llvmlite<0.38,>=0.37.0rc1 in c:\\users\\davidpratap\\anaconda3\\envs\\pycaret\\lib\\site-packages (from numba>=0.35->pyod->pycaret) (0.37.0)\n",
      "Requirement already satisfied: patsy>=0.5.2 in c:\\users\\davidpratap\\anaconda3\\envs\\pycaret\\lib\\site-packages (from statsmodels->pyod->pycaret) (0.5.2)\n",
      "Requirement already satisfied: pynndescent>=0.5 in c:\\users\\davidpratap\\anaconda3\\envs\\pycaret\\lib\\site-packages (from umap-learn->pycaret) (0.5.5)\n"
     ]
    },
    {
     "name": "stdout",
     "output_type": "stream",
     "text": [
      "Requirement already satisfied: streamlit in c:\\users\\davidpratap\\anaconda3\\envs\\pycaret\\lib\\site-packages (1.3.0)\n",
      "Requirement already satisfied: validators in c:\\users\\davidpratap\\anaconda3\\envs\\pycaret\\lib\\site-packages (from streamlit) (0.18.2)\n",
      "Requirement already satisfied: cachetools>=4.0 in c:\\users\\davidpratap\\anaconda3\\envs\\pycaret\\lib\\site-packages (from streamlit) (5.0.0)\n",
      "Requirement already satisfied: altair>=3.2.0 in c:\\users\\davidpratap\\anaconda3\\envs\\pycaret\\lib\\site-packages (from streamlit) (4.1.0)\n",
      "Requirement already satisfied: packaging in c:\\users\\davidpratap\\anaconda3\\envs\\pycaret\\lib\\site-packages (from streamlit) (21.3)\n",
      "Requirement already satisfied: click<8.0,>=7.0 in c:\\users\\davidpratap\\anaconda3\\envs\\pycaret\\lib\\site-packages (from streamlit) (7.1.2)\n",
      "Requirement already satisfied: pandas>=0.21.0 in c:\\users\\davidpratap\\anaconda3\\envs\\pycaret\\lib\\site-packages (from streamlit) (1.3.5)\n",
      "Requirement already satisfied: pympler>=0.9 in c:\\users\\davidpratap\\anaconda3\\envs\\pycaret\\lib\\site-packages (from streamlit) (1.0.1)\n",
      "Requirement already satisfied: toml in c:\\users\\davidpratap\\anaconda3\\envs\\pycaret\\lib\\site-packages (from streamlit) (0.10.2)\n",
      "Requirement already satisfied: attrs in c:\\users\\davidpratap\\anaconda3\\envs\\pycaret\\lib\\site-packages (from streamlit) (21.2.0)\n",
      "Requirement already satisfied: base58 in c:\\users\\davidpratap\\anaconda3\\envs\\pycaret\\lib\\site-packages (from streamlit) (2.1.1)\n",
      "Requirement already satisfied: pyarrow in c:\\users\\davidpratap\\anaconda3\\envs\\pycaret\\lib\\site-packages (from streamlit) (6.0.1)\n",
      "Requirement already satisfied: gitpython!=3.1.19 in c:\\users\\davidpratap\\anaconda3\\envs\\pycaret\\lib\\site-packages (from streamlit) (3.1.24)\n",
      "Requirement already satisfied: tornado>=5.0 in c:\\users\\davidpratap\\anaconda3\\envs\\pycaret\\lib\\site-packages (from streamlit) (6.1)\n",
      "Requirement already satisfied: numpy in c:\\users\\davidpratap\\anaconda3\\envs\\pycaret\\lib\\site-packages (from streamlit) (1.19.5)\n",
      "Requirement already satisfied: tzlocal in c:\\users\\davidpratap\\anaconda3\\envs\\pycaret\\lib\\site-packages (from streamlit) (4.1)\n",
      "Requirement already satisfied: python-dateutil in c:\\users\\davidpratap\\anaconda3\\envs\\pycaret\\lib\\site-packages (from streamlit) (2.8.2)\n",
      "Requirement already satisfied: protobuf!=3.11,>=3.6.0 in c:\\users\\davidpratap\\anaconda3\\envs\\pycaret\\lib\\site-packages (from streamlit) (3.19.1)\n",
      "Requirement already satisfied: requests in c:\\users\\davidpratap\\anaconda3\\envs\\pycaret\\lib\\site-packages (from streamlit) (2.26.0)\n",
      "Requirement already satisfied: pydeck>=0.1.dev5 in c:\\users\\davidpratap\\anaconda3\\envs\\pycaret\\lib\\site-packages (from streamlit) (0.7.1)\n",
      "Requirement already satisfied: blinker in c:\\users\\davidpratap\\anaconda3\\envs\\pycaret\\lib\\site-packages (from streamlit) (1.4)\n",
      "Requirement already satisfied: pillow>=6.2.0 in c:\\users\\davidpratap\\anaconda3\\envs\\pycaret\\lib\\site-packages (from streamlit) (8.4.0)\n",
      "Requirement already satisfied: astor in c:\\users\\davidpratap\\anaconda3\\envs\\pycaret\\lib\\site-packages (from streamlit) (0.8.1)\n",
      "Requirement already satisfied: watchdog in c:\\users\\davidpratap\\anaconda3\\envs\\pycaret\\lib\\site-packages (from streamlit) (2.1.6)\n",
      "Requirement already satisfied: toolz in c:\\users\\davidpratap\\anaconda3\\envs\\pycaret\\lib\\site-packages (from altair>=3.2.0->streamlit) (0.11.2)\n",
      "Requirement already satisfied: jsonschema in c:\\users\\davidpratap\\anaconda3\\envs\\pycaret\\lib\\site-packages (from altair>=3.2.0->streamlit) (4.3.2)\n",
      "Requirement already satisfied: entrypoints in c:\\users\\davidpratap\\anaconda3\\envs\\pycaret\\lib\\site-packages (from altair>=3.2.0->streamlit) (0.3)\n",
      "Requirement already satisfied: jinja2 in c:\\users\\davidpratap\\anaconda3\\envs\\pycaret\\lib\\site-packages (from altair>=3.2.0->streamlit) (3.0.3)\n",
      "Requirement already satisfied: typing-extensions>=3.7.4.3 in c:\\users\\davidpratap\\anaconda3\\envs\\pycaret\\lib\\site-packages (from gitpython!=3.1.19->streamlit) (4.0.1)\n",
      "Requirement already satisfied: gitdb<5,>=4.0.1 in c:\\users\\davidpratap\\anaconda3\\envs\\pycaret\\lib\\site-packages (from gitpython!=3.1.19->streamlit) (4.0.9)\n",
      "Requirement already satisfied: smmap<6,>=3.0.1 in c:\\users\\davidpratap\\anaconda3\\envs\\pycaret\\lib\\site-packages (from gitdb<5,>=4.0.1->gitpython!=3.1.19->streamlit) (5.0.0)\n",
      "Requirement already satisfied: pytz>=2017.3 in c:\\users\\davidpratap\\anaconda3\\envs\\pycaret\\lib\\site-packages (from pandas>=0.21.0->streamlit) (2021.3)\n",
      "Requirement already satisfied: traitlets>=4.3.2 in c:\\users\\davidpratap\\anaconda3\\envs\\pycaret\\lib\\site-packages (from pydeck>=0.1.dev5->streamlit) (5.1.1)\n",
      "Requirement already satisfied: ipykernel>=5.1.2 in c:\\users\\davidpratap\\anaconda3\\envs\\pycaret\\lib\\site-packages (from pydeck>=0.1.dev5->streamlit) (6.6.0)\n",
      "Requirement already satisfied: ipywidgets>=7.0.0 in c:\\users\\davidpratap\\anaconda3\\envs\\pycaret\\lib\\site-packages (from pydeck>=0.1.dev5->streamlit) (7.6.5)\n",
      "Requirement already satisfied: debugpy<2.0,>=1.0.0 in c:\\users\\davidpratap\\anaconda3\\envs\\pycaret\\lib\\site-packages (from ipykernel>=5.1.2->pydeck>=0.1.dev5->streamlit) (1.5.1)\n",
      "Requirement already satisfied: jupyter-client<8.0 in c:\\users\\davidpratap\\anaconda3\\envs\\pycaret\\lib\\site-packages (from ipykernel>=5.1.2->pydeck>=0.1.dev5->streamlit) (7.1.0)\n",
      "Requirement already satisfied: ipython>=7.23.1 in c:\\users\\davidpratap\\anaconda3\\envs\\pycaret\\lib\\site-packages (from ipykernel>=5.1.2->pydeck>=0.1.dev5->streamlit) (7.30.1)\n",
      "Requirement already satisfied: matplotlib-inline<0.2.0,>=0.1.0 in c:\\users\\davidpratap\\anaconda3\\envs\\pycaret\\lib\\site-packages (from ipykernel>=5.1.2->pydeck>=0.1.dev5->streamlit) (0.1.3)\n",
      "Requirement already satisfied: jedi>=0.16 in c:\\users\\davidpratap\\anaconda3\\envs\\pycaret\\lib\\site-packages (from ipython>=7.23.1->ipykernel>=5.1.2->pydeck>=0.1.dev5->streamlit) (0.18.1)\n",
      "Requirement already satisfied: decorator in c:\\users\\davidpratap\\anaconda3\\envs\\pycaret\\lib\\site-packages (from ipython>=7.23.1->ipykernel>=5.1.2->pydeck>=0.1.dev5->streamlit) (5.1.0)\n",
      "Requirement already satisfied: prompt-toolkit!=3.0.0,!=3.0.1,<3.1.0,>=2.0.0 in c:\\users\\davidpratap\\anaconda3\\envs\\pycaret\\lib\\site-packages (from ipython>=7.23.1->ipykernel>=5.1.2->pydeck>=0.1.dev5->streamlit) (3.0.24)\n",
      "Requirement already satisfied: pickleshare in c:\\users\\davidpratap\\anaconda3\\envs\\pycaret\\lib\\site-packages (from ipython>=7.23.1->ipykernel>=5.1.2->pydeck>=0.1.dev5->streamlit) (0.7.5)\n",
      "Requirement already satisfied: setuptools>=18.5 in c:\\users\\davidpratap\\anaconda3\\envs\\pycaret\\lib\\site-packages (from ipython>=7.23.1->ipykernel>=5.1.2->pydeck>=0.1.dev5->streamlit) (58.0.4)\n",
      "Requirement already satisfied: colorama in c:\\users\\davidpratap\\anaconda3\\envs\\pycaret\\lib\\site-packages (from ipython>=7.23.1->ipykernel>=5.1.2->pydeck>=0.1.dev5->streamlit) (0.4.4)\n",
      "Requirement already satisfied: backcall in c:\\users\\davidpratap\\anaconda3\\envs\\pycaret\\lib\\site-packages (from ipython>=7.23.1->ipykernel>=5.1.2->pydeck>=0.1.dev5->streamlit) (0.2.0)\n",
      "Requirement already satisfied: pygments in c:\\users\\davidpratap\\anaconda3\\envs\\pycaret\\lib\\site-packages (from ipython>=7.23.1->ipykernel>=5.1.2->pydeck>=0.1.dev5->streamlit) (2.10.0)\n",
      "Requirement already satisfied: jupyterlab-widgets>=1.0.0 in c:\\users\\davidpratap\\anaconda3\\envs\\pycaret\\lib\\site-packages (from ipywidgets>=7.0.0->pydeck>=0.1.dev5->streamlit) (1.0.2)\n",
      "Requirement already satisfied: nbformat>=4.2.0 in c:\\users\\davidpratap\\anaconda3\\envs\\pycaret\\lib\\site-packages (from ipywidgets>=7.0.0->pydeck>=0.1.dev5->streamlit) (5.1.3)\n",
      "Requirement already satisfied: widgetsnbextension~=3.5.0 in c:\\users\\davidpratap\\anaconda3\\envs\\pycaret\\lib\\site-packages (from ipywidgets>=7.0.0->pydeck>=0.1.dev5->streamlit) (3.5.2)\n",
      "Requirement already satisfied: ipython-genutils~=0.2.0 in c:\\users\\davidpratap\\anaconda3\\envs\\pycaret\\lib\\site-packages (from ipywidgets>=7.0.0->pydeck>=0.1.dev5->streamlit) (0.2.0)\n",
      "Requirement already satisfied: parso<0.9.0,>=0.8.0 in c:\\users\\davidpratap\\anaconda3\\envs\\pycaret\\lib\\site-packages (from jedi>=0.16->ipython>=7.23.1->ipykernel>=5.1.2->pydeck>=0.1.dev5->streamlit) (0.8.3)\n",
      "Requirement already satisfied: MarkupSafe>=2.0 in c:\\users\\davidpratap\\anaconda3\\envs\\pycaret\\lib\\site-packages (from jinja2->altair>=3.2.0->streamlit) (2.0.1)\n",
      "Requirement already satisfied: pyzmq>=13 in c:\\users\\davidpratap\\anaconda3\\envs\\pycaret\\lib\\site-packages (from jupyter-client<8.0->ipykernel>=5.1.2->pydeck>=0.1.dev5->streamlit) (22.3.0)\n",
      "Requirement already satisfied: jupyter-core>=4.6.0 in c:\\users\\davidpratap\\anaconda3\\envs\\pycaret\\lib\\site-packages (from jupyter-client<8.0->ipykernel>=5.1.2->pydeck>=0.1.dev5->streamlit) (4.9.1)\n",
      "Requirement already satisfied: nest-asyncio>=1.5 in c:\\users\\davidpratap\\anaconda3\\envs\\pycaret\\lib\\site-packages (from jupyter-client<8.0->ipykernel>=5.1.2->pydeck>=0.1.dev5->streamlit) (1.5.4)\n",
      "Requirement already satisfied: pywin32>=1.0 in c:\\users\\davidpratap\\anaconda3\\envs\\pycaret\\lib\\site-packages (from jupyter-core>=4.6.0->jupyter-client<8.0->ipykernel>=5.1.2->pydeck>=0.1.dev5->streamlit) (227)\n",
      "Requirement already satisfied: pyrsistent!=0.17.0,!=0.17.1,!=0.17.2,>=0.14.0 in c:\\users\\davidpratap\\anaconda3\\envs\\pycaret\\lib\\site-packages (from jsonschema->altair>=3.2.0->streamlit) (0.18.0)\n",
      "Requirement already satisfied: importlib-resources>=1.4.0 in c:\\users\\davidpratap\\anaconda3\\envs\\pycaret\\lib\\site-packages (from jsonschema->altair>=3.2.0->streamlit) (5.4.0)\n",
      "Requirement already satisfied: zipp>=3.1.0 in c:\\users\\davidpratap\\anaconda3\\envs\\pycaret\\lib\\site-packages (from importlib-resources>=1.4.0->jsonschema->altair>=3.2.0->streamlit) (3.6.0)\n",
      "Requirement already satisfied: wcwidth in c:\\users\\davidpratap\\anaconda3\\envs\\pycaret\\lib\\site-packages (from prompt-toolkit!=3.0.0,!=3.0.1,<3.1.0,>=2.0.0->ipython>=7.23.1->ipykernel>=5.1.2->pydeck>=0.1.dev5->streamlit) (0.2.5)\n",
      "Requirement already satisfied: six>=1.5 in c:\\users\\davidpratap\\anaconda3\\envs\\pycaret\\lib\\site-packages (from python-dateutil->streamlit) (1.16.0)\n",
      "Requirement already satisfied: notebook>=4.4.1 in c:\\users\\davidpratap\\anaconda3\\envs\\pycaret\\lib\\site-packages (from widgetsnbextension~=3.5.0->ipywidgets>=7.0.0->pydeck>=0.1.dev5->streamlit) (6.4.6)\n",
      "Requirement already satisfied: Send2Trash>=1.8.0 in c:\\users\\davidpratap\\anaconda3\\envs\\pycaret\\lib\\site-packages (from notebook>=4.4.1->widgetsnbextension~=3.5.0->ipywidgets>=7.0.0->pydeck>=0.1.dev5->streamlit) (1.8.0)\n",
      "Requirement already satisfied: argon2-cffi in c:\\users\\davidpratap\\anaconda3\\envs\\pycaret\\lib\\site-packages (from notebook>=4.4.1->widgetsnbextension~=3.5.0->ipywidgets>=7.0.0->pydeck>=0.1.dev5->streamlit) (21.3.0)\n",
      "Requirement already satisfied: terminado>=0.8.3 in c:\\users\\davidpratap\\anaconda3\\envs\\pycaret\\lib\\site-packages (from notebook>=4.4.1->widgetsnbextension~=3.5.0->ipywidgets>=7.0.0->pydeck>=0.1.dev5->streamlit) (0.12.1)\n",
      "Requirement already satisfied: nbconvert in c:\\users\\davidpratap\\anaconda3\\envs\\pycaret\\lib\\site-packages (from notebook>=4.4.1->widgetsnbextension~=3.5.0->ipywidgets>=7.0.0->pydeck>=0.1.dev5->streamlit) (6.3.0)\n",
      "Requirement already satisfied: prometheus-client in c:\\users\\davidpratap\\anaconda3\\envs\\pycaret\\lib\\site-packages (from notebook>=4.4.1->widgetsnbextension~=3.5.0->ipywidgets>=7.0.0->pydeck>=0.1.dev5->streamlit) (0.12.0)\n",
      "Requirement already satisfied: pywinpty>=1.1.0 in c:\\users\\davidpratap\\anaconda3\\envs\\pycaret\\lib\\site-packages (from terminado>=0.8.3->notebook>=4.4.1->widgetsnbextension~=3.5.0->ipywidgets>=7.0.0->pydeck>=0.1.dev5->streamlit) (1.1.6)\n",
      "Requirement already satisfied: argon2-cffi-bindings in c:\\users\\davidpratap\\anaconda3\\envs\\pycaret\\lib\\site-packages (from argon2-cffi->notebook>=4.4.1->widgetsnbextension~=3.5.0->ipywidgets>=7.0.0->pydeck>=0.1.dev5->streamlit) (21.2.0)\n",
      "Requirement already satisfied: cffi>=1.0.1 in c:\\users\\davidpratap\\anaconda3\\envs\\pycaret\\lib\\site-packages (from argon2-cffi-bindings->argon2-cffi->notebook>=4.4.1->widgetsnbextension~=3.5.0->ipywidgets>=7.0.0->pydeck>=0.1.dev5->streamlit) (1.15.0)\n",
      "Requirement already satisfied: pycparser in c:\\users\\davidpratap\\anaconda3\\envs\\pycaret\\lib\\site-packages (from cffi>=1.0.1->argon2-cffi-bindings->argon2-cffi->notebook>=4.4.1->widgetsnbextension~=3.5.0->ipywidgets>=7.0.0->pydeck>=0.1.dev5->streamlit) (2.21)\n",
      "Requirement already satisfied: nbclient<0.6.0,>=0.5.0 in c:\\users\\davidpratap\\anaconda3\\envs\\pycaret\\lib\\site-packages (from nbconvert->notebook>=4.4.1->widgetsnbextension~=3.5.0->ipywidgets>=7.0.0->pydeck>=0.1.dev5->streamlit) (0.5.9)\n",
      "Requirement already satisfied: bleach in c:\\users\\davidpratap\\anaconda3\\envs\\pycaret\\lib\\site-packages (from nbconvert->notebook>=4.4.1->widgetsnbextension~=3.5.0->ipywidgets>=7.0.0->pydeck>=0.1.dev5->streamlit) (4.1.0)\n",
      "Requirement already satisfied: testpath in c:\\users\\davidpratap\\anaconda3\\envs\\pycaret\\lib\\site-packages (from nbconvert->notebook>=4.4.1->widgetsnbextension~=3.5.0->ipywidgets>=7.0.0->pydeck>=0.1.dev5->streamlit) (0.5.0)\n",
      "Requirement already satisfied: defusedxml in c:\\users\\davidpratap\\anaconda3\\envs\\pycaret\\lib\\site-packages (from nbconvert->notebook>=4.4.1->widgetsnbextension~=3.5.0->ipywidgets>=7.0.0->pydeck>=0.1.dev5->streamlit) (0.7.1)\n",
      "Requirement already satisfied: mistune<2,>=0.8.1 in c:\\users\\davidpratap\\anaconda3\\envs\\pycaret\\lib\\site-packages (from nbconvert->notebook>=4.4.1->widgetsnbextension~=3.5.0->ipywidgets>=7.0.0->pydeck>=0.1.dev5->streamlit) (0.8.4)\n",
      "Requirement already satisfied: jupyterlab-pygments in c:\\users\\davidpratap\\anaconda3\\envs\\pycaret\\lib\\site-packages (from nbconvert->notebook>=4.4.1->widgetsnbextension~=3.5.0->ipywidgets>=7.0.0->pydeck>=0.1.dev5->streamlit) (0.1.2)\n",
      "Requirement already satisfied: pandocfilters>=1.4.1 in c:\\users\\davidpratap\\anaconda3\\envs\\pycaret\\lib\\site-packages (from nbconvert->notebook>=4.4.1->widgetsnbextension~=3.5.0->ipywidgets>=7.0.0->pydeck>=0.1.dev5->streamlit) (1.5.0)\n",
      "Requirement already satisfied: webencodings in c:\\users\\davidpratap\\anaconda3\\envs\\pycaret\\lib\\site-packages (from bleach->nbconvert->notebook>=4.4.1->widgetsnbextension~=3.5.0->ipywidgets>=7.0.0->pydeck>=0.1.dev5->streamlit) (0.5.1)\n",
      "Requirement already satisfied: pyparsing!=3.0.5,>=2.0.2 in c:\\users\\davidpratap\\anaconda3\\envs\\pycaret\\lib\\site-packages (from packaging->streamlit) (3.0.6)\n",
      "Requirement already satisfied: charset-normalizer~=2.0.0 in c:\\users\\davidpratap\\anaconda3\\envs\\pycaret\\lib\\site-packages (from requests->streamlit) (2.0.9)\n",
      "Requirement already satisfied: idna<4,>=2.5 in c:\\users\\davidpratap\\anaconda3\\envs\\pycaret\\lib\\site-packages (from requests->streamlit) (3.3)\n",
      "Requirement already satisfied: certifi>=2017.4.17 in c:\\users\\davidpratap\\anaconda3\\envs\\pycaret\\lib\\site-packages (from requests->streamlit) (2021.10.8)\n",
      "Requirement already satisfied: urllib3<1.27,>=1.21.1 in c:\\users\\davidpratap\\anaconda3\\envs\\pycaret\\lib\\site-packages (from requests->streamlit) (1.26.7)\n",
      "Requirement already satisfied: backports.zoneinfo in c:\\users\\davidpratap\\anaconda3\\envs\\pycaret\\lib\\site-packages (from tzlocal->streamlit) (0.2.1)\n",
      "Requirement already satisfied: pytz-deprecation-shim in c:\\users\\davidpratap\\anaconda3\\envs\\pycaret\\lib\\site-packages (from tzlocal->streamlit) (0.1.0.post0)\n",
      "Requirement already satisfied: tzdata in c:\\users\\davidpratap\\anaconda3\\envs\\pycaret\\lib\\site-packages (from tzlocal->streamlit) (2021.5)\n"
     ]
    }
   ],
   "source": [
    "!pip install pycaret\n",
    "!pip install streamlit"
   ]
  },
  {
   "cell_type": "code",
   "execution_count": 67,
   "id": "46b44161",
   "metadata": {},
   "outputs": [
    {
     "data": {
      "text/html": [
       "<style type=\"text/css\">\n",
       "#T_b3d2f_row44_col1 {\n",
       "  background-color: lightgreen;\n",
       "}\n",
       "</style>\n",
       "<table id=\"T_b3d2f_\">\n",
       "  <thead>\n",
       "    <tr>\n",
       "      <th class=\"blank level0\" >&nbsp;</th>\n",
       "      <th class=\"col_heading level0 col0\" >Description</th>\n",
       "      <th class=\"col_heading level0 col1\" >Value</th>\n",
       "    </tr>\n",
       "  </thead>\n",
       "  <tbody>\n",
       "    <tr>\n",
       "      <th id=\"T_b3d2f_level0_row0\" class=\"row_heading level0 row0\" >0</th>\n",
       "      <td id=\"T_b3d2f_row0_col0\" class=\"data row0 col0\" >session_id</td>\n",
       "      <td id=\"T_b3d2f_row0_col1\" class=\"data row0 col1\" >4398</td>\n",
       "    </tr>\n",
       "    <tr>\n",
       "      <th id=\"T_b3d2f_level0_row1\" class=\"row_heading level0 row1\" >1</th>\n",
       "      <td id=\"T_b3d2f_row1_col0\" class=\"data row1 col0\" >Target</td>\n",
       "      <td id=\"T_b3d2f_row1_col1\" class=\"data row1 col1\" >class</td>\n",
       "    </tr>\n",
       "    <tr>\n",
       "      <th id=\"T_b3d2f_level0_row2\" class=\"row_heading level0 row2\" >2</th>\n",
       "      <td id=\"T_b3d2f_row2_col0\" class=\"data row2 col0\" >Target Type</td>\n",
       "      <td id=\"T_b3d2f_row2_col1\" class=\"data row2 col1\" >Multiclass</td>\n",
       "    </tr>\n",
       "    <tr>\n",
       "      <th id=\"T_b3d2f_level0_row3\" class=\"row_heading level0 row3\" >3</th>\n",
       "      <td id=\"T_b3d2f_row3_col0\" class=\"data row3 col0\" >Label Encoded</td>\n",
       "      <td id=\"T_b3d2f_row3_col1\" class=\"data row3 col1\" >setosa: 0, versicolor: 1, virginica: 2</td>\n",
       "    </tr>\n",
       "    <tr>\n",
       "      <th id=\"T_b3d2f_level0_row4\" class=\"row_heading level0 row4\" >4</th>\n",
       "      <td id=\"T_b3d2f_row4_col0\" class=\"data row4 col0\" >Original Data</td>\n",
       "      <td id=\"T_b3d2f_row4_col1\" class=\"data row4 col1\" >(150, 5)</td>\n",
       "    </tr>\n",
       "    <tr>\n",
       "      <th id=\"T_b3d2f_level0_row5\" class=\"row_heading level0 row5\" >5</th>\n",
       "      <td id=\"T_b3d2f_row5_col0\" class=\"data row5 col0\" >Missing Values</td>\n",
       "      <td id=\"T_b3d2f_row5_col1\" class=\"data row5 col1\" >False</td>\n",
       "    </tr>\n",
       "    <tr>\n",
       "      <th id=\"T_b3d2f_level0_row6\" class=\"row_heading level0 row6\" >6</th>\n",
       "      <td id=\"T_b3d2f_row6_col0\" class=\"data row6 col0\" >Numeric Features</td>\n",
       "      <td id=\"T_b3d2f_row6_col1\" class=\"data row6 col1\" >4</td>\n",
       "    </tr>\n",
       "    <tr>\n",
       "      <th id=\"T_b3d2f_level0_row7\" class=\"row_heading level0 row7\" >7</th>\n",
       "      <td id=\"T_b3d2f_row7_col0\" class=\"data row7 col0\" >Categorical Features</td>\n",
       "      <td id=\"T_b3d2f_row7_col1\" class=\"data row7 col1\" >0</td>\n",
       "    </tr>\n",
       "    <tr>\n",
       "      <th id=\"T_b3d2f_level0_row8\" class=\"row_heading level0 row8\" >8</th>\n",
       "      <td id=\"T_b3d2f_row8_col0\" class=\"data row8 col0\" >Ordinal Features</td>\n",
       "      <td id=\"T_b3d2f_row8_col1\" class=\"data row8 col1\" >False</td>\n",
       "    </tr>\n",
       "    <tr>\n",
       "      <th id=\"T_b3d2f_level0_row9\" class=\"row_heading level0 row9\" >9</th>\n",
       "      <td id=\"T_b3d2f_row9_col0\" class=\"data row9 col0\" >High Cardinality Features</td>\n",
       "      <td id=\"T_b3d2f_row9_col1\" class=\"data row9 col1\" >False</td>\n",
       "    </tr>\n",
       "    <tr>\n",
       "      <th id=\"T_b3d2f_level0_row10\" class=\"row_heading level0 row10\" >10</th>\n",
       "      <td id=\"T_b3d2f_row10_col0\" class=\"data row10 col0\" >High Cardinality Method</td>\n",
       "      <td id=\"T_b3d2f_row10_col1\" class=\"data row10 col1\" >None</td>\n",
       "    </tr>\n",
       "    <tr>\n",
       "      <th id=\"T_b3d2f_level0_row11\" class=\"row_heading level0 row11\" >11</th>\n",
       "      <td id=\"T_b3d2f_row11_col0\" class=\"data row11 col0\" >Transformed Train Set</td>\n",
       "      <td id=\"T_b3d2f_row11_col1\" class=\"data row11 col1\" >(104, 4)</td>\n",
       "    </tr>\n",
       "    <tr>\n",
       "      <th id=\"T_b3d2f_level0_row12\" class=\"row_heading level0 row12\" >12</th>\n",
       "      <td id=\"T_b3d2f_row12_col0\" class=\"data row12 col0\" >Transformed Test Set</td>\n",
       "      <td id=\"T_b3d2f_row12_col1\" class=\"data row12 col1\" >(46, 4)</td>\n",
       "    </tr>\n",
       "    <tr>\n",
       "      <th id=\"T_b3d2f_level0_row13\" class=\"row_heading level0 row13\" >13</th>\n",
       "      <td id=\"T_b3d2f_row13_col0\" class=\"data row13 col0\" >Shuffle Train-Test</td>\n",
       "      <td id=\"T_b3d2f_row13_col1\" class=\"data row13 col1\" >True</td>\n",
       "    </tr>\n",
       "    <tr>\n",
       "      <th id=\"T_b3d2f_level0_row14\" class=\"row_heading level0 row14\" >14</th>\n",
       "      <td id=\"T_b3d2f_row14_col0\" class=\"data row14 col0\" >Stratify Train-Test</td>\n",
       "      <td id=\"T_b3d2f_row14_col1\" class=\"data row14 col1\" >False</td>\n",
       "    </tr>\n",
       "    <tr>\n",
       "      <th id=\"T_b3d2f_level0_row15\" class=\"row_heading level0 row15\" >15</th>\n",
       "      <td id=\"T_b3d2f_row15_col0\" class=\"data row15 col0\" >Fold Generator</td>\n",
       "      <td id=\"T_b3d2f_row15_col1\" class=\"data row15 col1\" >StratifiedKFold</td>\n",
       "    </tr>\n",
       "    <tr>\n",
       "      <th id=\"T_b3d2f_level0_row16\" class=\"row_heading level0 row16\" >16</th>\n",
       "      <td id=\"T_b3d2f_row16_col0\" class=\"data row16 col0\" >Fold Number</td>\n",
       "      <td id=\"T_b3d2f_row16_col1\" class=\"data row16 col1\" >10</td>\n",
       "    </tr>\n",
       "    <tr>\n",
       "      <th id=\"T_b3d2f_level0_row17\" class=\"row_heading level0 row17\" >17</th>\n",
       "      <td id=\"T_b3d2f_row17_col0\" class=\"data row17 col0\" >CPU Jobs</td>\n",
       "      <td id=\"T_b3d2f_row17_col1\" class=\"data row17 col1\" >-1</td>\n",
       "    </tr>\n",
       "    <tr>\n",
       "      <th id=\"T_b3d2f_level0_row18\" class=\"row_heading level0 row18\" >18</th>\n",
       "      <td id=\"T_b3d2f_row18_col0\" class=\"data row18 col0\" >Use GPU</td>\n",
       "      <td id=\"T_b3d2f_row18_col1\" class=\"data row18 col1\" >False</td>\n",
       "    </tr>\n",
       "    <tr>\n",
       "      <th id=\"T_b3d2f_level0_row19\" class=\"row_heading level0 row19\" >19</th>\n",
       "      <td id=\"T_b3d2f_row19_col0\" class=\"data row19 col0\" >Log Experiment</td>\n",
       "      <td id=\"T_b3d2f_row19_col1\" class=\"data row19 col1\" >False</td>\n",
       "    </tr>\n",
       "    <tr>\n",
       "      <th id=\"T_b3d2f_level0_row20\" class=\"row_heading level0 row20\" >20</th>\n",
       "      <td id=\"T_b3d2f_row20_col0\" class=\"data row20 col0\" >Experiment Name</td>\n",
       "      <td id=\"T_b3d2f_row20_col1\" class=\"data row20 col1\" >clf-default-name</td>\n",
       "    </tr>\n",
       "    <tr>\n",
       "      <th id=\"T_b3d2f_level0_row21\" class=\"row_heading level0 row21\" >21</th>\n",
       "      <td id=\"T_b3d2f_row21_col0\" class=\"data row21 col0\" >USI</td>\n",
       "      <td id=\"T_b3d2f_row21_col1\" class=\"data row21 col1\" >ed22</td>\n",
       "    </tr>\n",
       "    <tr>\n",
       "      <th id=\"T_b3d2f_level0_row22\" class=\"row_heading level0 row22\" >22</th>\n",
       "      <td id=\"T_b3d2f_row22_col0\" class=\"data row22 col0\" >Imputation Type</td>\n",
       "      <td id=\"T_b3d2f_row22_col1\" class=\"data row22 col1\" >simple</td>\n",
       "    </tr>\n",
       "    <tr>\n",
       "      <th id=\"T_b3d2f_level0_row23\" class=\"row_heading level0 row23\" >23</th>\n",
       "      <td id=\"T_b3d2f_row23_col0\" class=\"data row23 col0\" >Iterative Imputation Iteration</td>\n",
       "      <td id=\"T_b3d2f_row23_col1\" class=\"data row23 col1\" >None</td>\n",
       "    </tr>\n",
       "    <tr>\n",
       "      <th id=\"T_b3d2f_level0_row24\" class=\"row_heading level0 row24\" >24</th>\n",
       "      <td id=\"T_b3d2f_row24_col0\" class=\"data row24 col0\" >Numeric Imputer</td>\n",
       "      <td id=\"T_b3d2f_row24_col1\" class=\"data row24 col1\" >mean</td>\n",
       "    </tr>\n",
       "    <tr>\n",
       "      <th id=\"T_b3d2f_level0_row25\" class=\"row_heading level0 row25\" >25</th>\n",
       "      <td id=\"T_b3d2f_row25_col0\" class=\"data row25 col0\" >Iterative Imputation Numeric Model</td>\n",
       "      <td id=\"T_b3d2f_row25_col1\" class=\"data row25 col1\" >None</td>\n",
       "    </tr>\n",
       "    <tr>\n",
       "      <th id=\"T_b3d2f_level0_row26\" class=\"row_heading level0 row26\" >26</th>\n",
       "      <td id=\"T_b3d2f_row26_col0\" class=\"data row26 col0\" >Categorical Imputer</td>\n",
       "      <td id=\"T_b3d2f_row26_col1\" class=\"data row26 col1\" >constant</td>\n",
       "    </tr>\n",
       "    <tr>\n",
       "      <th id=\"T_b3d2f_level0_row27\" class=\"row_heading level0 row27\" >27</th>\n",
       "      <td id=\"T_b3d2f_row27_col0\" class=\"data row27 col0\" >Iterative Imputation Categorical Model</td>\n",
       "      <td id=\"T_b3d2f_row27_col1\" class=\"data row27 col1\" >None</td>\n",
       "    </tr>\n",
       "    <tr>\n",
       "      <th id=\"T_b3d2f_level0_row28\" class=\"row_heading level0 row28\" >28</th>\n",
       "      <td id=\"T_b3d2f_row28_col0\" class=\"data row28 col0\" >Unknown Categoricals Handling</td>\n",
       "      <td id=\"T_b3d2f_row28_col1\" class=\"data row28 col1\" >least_frequent</td>\n",
       "    </tr>\n",
       "    <tr>\n",
       "      <th id=\"T_b3d2f_level0_row29\" class=\"row_heading level0 row29\" >29</th>\n",
       "      <td id=\"T_b3d2f_row29_col0\" class=\"data row29 col0\" >Normalize</td>\n",
       "      <td id=\"T_b3d2f_row29_col1\" class=\"data row29 col1\" >False</td>\n",
       "    </tr>\n",
       "    <tr>\n",
       "      <th id=\"T_b3d2f_level0_row30\" class=\"row_heading level0 row30\" >30</th>\n",
       "      <td id=\"T_b3d2f_row30_col0\" class=\"data row30 col0\" >Normalize Method</td>\n",
       "      <td id=\"T_b3d2f_row30_col1\" class=\"data row30 col1\" >None</td>\n",
       "    </tr>\n",
       "    <tr>\n",
       "      <th id=\"T_b3d2f_level0_row31\" class=\"row_heading level0 row31\" >31</th>\n",
       "      <td id=\"T_b3d2f_row31_col0\" class=\"data row31 col0\" >Transformation</td>\n",
       "      <td id=\"T_b3d2f_row31_col1\" class=\"data row31 col1\" >False</td>\n",
       "    </tr>\n",
       "    <tr>\n",
       "      <th id=\"T_b3d2f_level0_row32\" class=\"row_heading level0 row32\" >32</th>\n",
       "      <td id=\"T_b3d2f_row32_col0\" class=\"data row32 col0\" >Transformation Method</td>\n",
       "      <td id=\"T_b3d2f_row32_col1\" class=\"data row32 col1\" >None</td>\n",
       "    </tr>\n",
       "    <tr>\n",
       "      <th id=\"T_b3d2f_level0_row33\" class=\"row_heading level0 row33\" >33</th>\n",
       "      <td id=\"T_b3d2f_row33_col0\" class=\"data row33 col0\" >PCA</td>\n",
       "      <td id=\"T_b3d2f_row33_col1\" class=\"data row33 col1\" >False</td>\n",
       "    </tr>\n",
       "    <tr>\n",
       "      <th id=\"T_b3d2f_level0_row34\" class=\"row_heading level0 row34\" >34</th>\n",
       "      <td id=\"T_b3d2f_row34_col0\" class=\"data row34 col0\" >PCA Method</td>\n",
       "      <td id=\"T_b3d2f_row34_col1\" class=\"data row34 col1\" >None</td>\n",
       "    </tr>\n",
       "    <tr>\n",
       "      <th id=\"T_b3d2f_level0_row35\" class=\"row_heading level0 row35\" >35</th>\n",
       "      <td id=\"T_b3d2f_row35_col0\" class=\"data row35 col0\" >PCA Components</td>\n",
       "      <td id=\"T_b3d2f_row35_col1\" class=\"data row35 col1\" >None</td>\n",
       "    </tr>\n",
       "    <tr>\n",
       "      <th id=\"T_b3d2f_level0_row36\" class=\"row_heading level0 row36\" >36</th>\n",
       "      <td id=\"T_b3d2f_row36_col0\" class=\"data row36 col0\" >Ignore Low Variance</td>\n",
       "      <td id=\"T_b3d2f_row36_col1\" class=\"data row36 col1\" >False</td>\n",
       "    </tr>\n",
       "    <tr>\n",
       "      <th id=\"T_b3d2f_level0_row37\" class=\"row_heading level0 row37\" >37</th>\n",
       "      <td id=\"T_b3d2f_row37_col0\" class=\"data row37 col0\" >Combine Rare Levels</td>\n",
       "      <td id=\"T_b3d2f_row37_col1\" class=\"data row37 col1\" >False</td>\n",
       "    </tr>\n",
       "    <tr>\n",
       "      <th id=\"T_b3d2f_level0_row38\" class=\"row_heading level0 row38\" >38</th>\n",
       "      <td id=\"T_b3d2f_row38_col0\" class=\"data row38 col0\" >Rare Level Threshold</td>\n",
       "      <td id=\"T_b3d2f_row38_col1\" class=\"data row38 col1\" >None</td>\n",
       "    </tr>\n",
       "    <tr>\n",
       "      <th id=\"T_b3d2f_level0_row39\" class=\"row_heading level0 row39\" >39</th>\n",
       "      <td id=\"T_b3d2f_row39_col0\" class=\"data row39 col0\" >Numeric Binning</td>\n",
       "      <td id=\"T_b3d2f_row39_col1\" class=\"data row39 col1\" >False</td>\n",
       "    </tr>\n",
       "    <tr>\n",
       "      <th id=\"T_b3d2f_level0_row40\" class=\"row_heading level0 row40\" >40</th>\n",
       "      <td id=\"T_b3d2f_row40_col0\" class=\"data row40 col0\" >Remove Outliers</td>\n",
       "      <td id=\"T_b3d2f_row40_col1\" class=\"data row40 col1\" >False</td>\n",
       "    </tr>\n",
       "    <tr>\n",
       "      <th id=\"T_b3d2f_level0_row41\" class=\"row_heading level0 row41\" >41</th>\n",
       "      <td id=\"T_b3d2f_row41_col0\" class=\"data row41 col0\" >Outliers Threshold</td>\n",
       "      <td id=\"T_b3d2f_row41_col1\" class=\"data row41 col1\" >None</td>\n",
       "    </tr>\n",
       "    <tr>\n",
       "      <th id=\"T_b3d2f_level0_row42\" class=\"row_heading level0 row42\" >42</th>\n",
       "      <td id=\"T_b3d2f_row42_col0\" class=\"data row42 col0\" >Remove Multicollinearity</td>\n",
       "      <td id=\"T_b3d2f_row42_col1\" class=\"data row42 col1\" >False</td>\n",
       "    </tr>\n",
       "    <tr>\n",
       "      <th id=\"T_b3d2f_level0_row43\" class=\"row_heading level0 row43\" >43</th>\n",
       "      <td id=\"T_b3d2f_row43_col0\" class=\"data row43 col0\" >Multicollinearity Threshold</td>\n",
       "      <td id=\"T_b3d2f_row43_col1\" class=\"data row43 col1\" >None</td>\n",
       "    </tr>\n",
       "    <tr>\n",
       "      <th id=\"T_b3d2f_level0_row44\" class=\"row_heading level0 row44\" >44</th>\n",
       "      <td id=\"T_b3d2f_row44_col0\" class=\"data row44 col0\" >Remove Perfect Collinearity</td>\n",
       "      <td id=\"T_b3d2f_row44_col1\" class=\"data row44 col1\" >True</td>\n",
       "    </tr>\n",
       "    <tr>\n",
       "      <th id=\"T_b3d2f_level0_row45\" class=\"row_heading level0 row45\" >45</th>\n",
       "      <td id=\"T_b3d2f_row45_col0\" class=\"data row45 col0\" >Clustering</td>\n",
       "      <td id=\"T_b3d2f_row45_col1\" class=\"data row45 col1\" >False</td>\n",
       "    </tr>\n",
       "    <tr>\n",
       "      <th id=\"T_b3d2f_level0_row46\" class=\"row_heading level0 row46\" >46</th>\n",
       "      <td id=\"T_b3d2f_row46_col0\" class=\"data row46 col0\" >Clustering Iteration</td>\n",
       "      <td id=\"T_b3d2f_row46_col1\" class=\"data row46 col1\" >None</td>\n",
       "    </tr>\n",
       "    <tr>\n",
       "      <th id=\"T_b3d2f_level0_row47\" class=\"row_heading level0 row47\" >47</th>\n",
       "      <td id=\"T_b3d2f_row47_col0\" class=\"data row47 col0\" >Polynomial Features</td>\n",
       "      <td id=\"T_b3d2f_row47_col1\" class=\"data row47 col1\" >False</td>\n",
       "    </tr>\n",
       "    <tr>\n",
       "      <th id=\"T_b3d2f_level0_row48\" class=\"row_heading level0 row48\" >48</th>\n",
       "      <td id=\"T_b3d2f_row48_col0\" class=\"data row48 col0\" >Polynomial Degree</td>\n",
       "      <td id=\"T_b3d2f_row48_col1\" class=\"data row48 col1\" >None</td>\n",
       "    </tr>\n",
       "    <tr>\n",
       "      <th id=\"T_b3d2f_level0_row49\" class=\"row_heading level0 row49\" >49</th>\n",
       "      <td id=\"T_b3d2f_row49_col0\" class=\"data row49 col0\" >Trignometry Features</td>\n",
       "      <td id=\"T_b3d2f_row49_col1\" class=\"data row49 col1\" >False</td>\n",
       "    </tr>\n",
       "    <tr>\n",
       "      <th id=\"T_b3d2f_level0_row50\" class=\"row_heading level0 row50\" >50</th>\n",
       "      <td id=\"T_b3d2f_row50_col0\" class=\"data row50 col0\" >Polynomial Threshold</td>\n",
       "      <td id=\"T_b3d2f_row50_col1\" class=\"data row50 col1\" >None</td>\n",
       "    </tr>\n",
       "    <tr>\n",
       "      <th id=\"T_b3d2f_level0_row51\" class=\"row_heading level0 row51\" >51</th>\n",
       "      <td id=\"T_b3d2f_row51_col0\" class=\"data row51 col0\" >Group Features</td>\n",
       "      <td id=\"T_b3d2f_row51_col1\" class=\"data row51 col1\" >False</td>\n",
       "    </tr>\n",
       "    <tr>\n",
       "      <th id=\"T_b3d2f_level0_row52\" class=\"row_heading level0 row52\" >52</th>\n",
       "      <td id=\"T_b3d2f_row52_col0\" class=\"data row52 col0\" >Feature Selection</td>\n",
       "      <td id=\"T_b3d2f_row52_col1\" class=\"data row52 col1\" >False</td>\n",
       "    </tr>\n",
       "    <tr>\n",
       "      <th id=\"T_b3d2f_level0_row53\" class=\"row_heading level0 row53\" >53</th>\n",
       "      <td id=\"T_b3d2f_row53_col0\" class=\"data row53 col0\" >Feature Selection Method</td>\n",
       "      <td id=\"T_b3d2f_row53_col1\" class=\"data row53 col1\" >classic</td>\n",
       "    </tr>\n",
       "    <tr>\n",
       "      <th id=\"T_b3d2f_level0_row54\" class=\"row_heading level0 row54\" >54</th>\n",
       "      <td id=\"T_b3d2f_row54_col0\" class=\"data row54 col0\" >Features Selection Threshold</td>\n",
       "      <td id=\"T_b3d2f_row54_col1\" class=\"data row54 col1\" >None</td>\n",
       "    </tr>\n",
       "    <tr>\n",
       "      <th id=\"T_b3d2f_level0_row55\" class=\"row_heading level0 row55\" >55</th>\n",
       "      <td id=\"T_b3d2f_row55_col0\" class=\"data row55 col0\" >Feature Interaction</td>\n",
       "      <td id=\"T_b3d2f_row55_col1\" class=\"data row55 col1\" >False</td>\n",
       "    </tr>\n",
       "    <tr>\n",
       "      <th id=\"T_b3d2f_level0_row56\" class=\"row_heading level0 row56\" >56</th>\n",
       "      <td id=\"T_b3d2f_row56_col0\" class=\"data row56 col0\" >Feature Ratio</td>\n",
       "      <td id=\"T_b3d2f_row56_col1\" class=\"data row56 col1\" >False</td>\n",
       "    </tr>\n",
       "    <tr>\n",
       "      <th id=\"T_b3d2f_level0_row57\" class=\"row_heading level0 row57\" >57</th>\n",
       "      <td id=\"T_b3d2f_row57_col0\" class=\"data row57 col0\" >Interaction Threshold</td>\n",
       "      <td id=\"T_b3d2f_row57_col1\" class=\"data row57 col1\" >None</td>\n",
       "    </tr>\n",
       "    <tr>\n",
       "      <th id=\"T_b3d2f_level0_row58\" class=\"row_heading level0 row58\" >58</th>\n",
       "      <td id=\"T_b3d2f_row58_col0\" class=\"data row58 col0\" >Fix Imbalance</td>\n",
       "      <td id=\"T_b3d2f_row58_col1\" class=\"data row58 col1\" >False</td>\n",
       "    </tr>\n",
       "    <tr>\n",
       "      <th id=\"T_b3d2f_level0_row59\" class=\"row_heading level0 row59\" >59</th>\n",
       "      <td id=\"T_b3d2f_row59_col0\" class=\"data row59 col0\" >Fix Imbalance Method</td>\n",
       "      <td id=\"T_b3d2f_row59_col1\" class=\"data row59 col1\" >SMOTE</td>\n",
       "    </tr>\n",
       "  </tbody>\n",
       "</table>\n"
      ],
      "text/plain": [
       "<pandas.io.formats.style.Styler at 0x231b24e54f0>"
      ]
     },
     "metadata": {},
     "output_type": "display_data"
    }
   ],
   "source": [
    "import pycaret\n",
    "#import classification module\n",
    "from pycaret.classification import *\n",
    "#intialize the setup\n",
    "exp_cls = setup(df, target = 'class')"
   ]
  },
  {
   "cell_type": "code",
   "execution_count": 68,
   "id": "9c324e6b",
   "metadata": {},
   "outputs": [
    {
     "data": {
      "text/html": [
       "<style type=\"text/css\">\n",
       "#T_95a14_ th {\n",
       "  text-align: left;\n",
       "}\n",
       "#T_95a14_row0_col0, #T_95a14_row0_col2, #T_95a14_row0_col5, #T_95a14_row1_col0, #T_95a14_row1_col2, #T_95a14_row1_col3, #T_95a14_row1_col4, #T_95a14_row1_col6, #T_95a14_row1_col7, #T_95a14_row2_col0, #T_95a14_row2_col1, #T_95a14_row2_col3, #T_95a14_row2_col4, #T_95a14_row2_col5, #T_95a14_row2_col6, #T_95a14_row2_col7, #T_95a14_row3_col0, #T_95a14_row3_col1, #T_95a14_row3_col2, #T_95a14_row3_col3, #T_95a14_row3_col4, #T_95a14_row3_col5, #T_95a14_row3_col6, #T_95a14_row3_col7, #T_95a14_row4_col0, #T_95a14_row4_col1, #T_95a14_row4_col2, #T_95a14_row4_col3, #T_95a14_row4_col4, #T_95a14_row4_col5, #T_95a14_row4_col6, #T_95a14_row4_col7, #T_95a14_row5_col0, #T_95a14_row5_col1, #T_95a14_row5_col2, #T_95a14_row5_col3, #T_95a14_row5_col4, #T_95a14_row5_col5, #T_95a14_row5_col6, #T_95a14_row5_col7, #T_95a14_row6_col0, #T_95a14_row6_col1, #T_95a14_row6_col2, #T_95a14_row6_col3, #T_95a14_row6_col4, #T_95a14_row6_col5, #T_95a14_row6_col6, #T_95a14_row6_col7, #T_95a14_row7_col0, #T_95a14_row7_col1, #T_95a14_row7_col2, #T_95a14_row7_col3, #T_95a14_row7_col4, #T_95a14_row7_col5, #T_95a14_row7_col6, #T_95a14_row7_col7, #T_95a14_row8_col0, #T_95a14_row8_col1, #T_95a14_row8_col2, #T_95a14_row8_col3, #T_95a14_row8_col4, #T_95a14_row8_col5, #T_95a14_row8_col6, #T_95a14_row8_col7, #T_95a14_row9_col0, #T_95a14_row9_col1, #T_95a14_row9_col2, #T_95a14_row9_col3, #T_95a14_row9_col4, #T_95a14_row9_col5, #T_95a14_row9_col6, #T_95a14_row9_col7, #T_95a14_row10_col0, #T_95a14_row10_col1, #T_95a14_row10_col2, #T_95a14_row10_col3, #T_95a14_row10_col4, #T_95a14_row10_col5, #T_95a14_row10_col6, #T_95a14_row10_col7, #T_95a14_row11_col0, #T_95a14_row11_col1, #T_95a14_row11_col2, #T_95a14_row11_col3, #T_95a14_row11_col4, #T_95a14_row11_col5, #T_95a14_row11_col6, #T_95a14_row11_col7, #T_95a14_row12_col0, #T_95a14_row12_col1, #T_95a14_row12_col2, #T_95a14_row12_col3, #T_95a14_row12_col4, #T_95a14_row12_col5, #T_95a14_row12_col6, #T_95a14_row12_col7, #T_95a14_row13_col0, #T_95a14_row13_col1, #T_95a14_row13_col2, #T_95a14_row13_col3, #T_95a14_row13_col4, #T_95a14_row13_col5, #T_95a14_row13_col6, #T_95a14_row13_col7 {\n",
       "  text-align: left;\n",
       "}\n",
       "#T_95a14_row0_col1, #T_95a14_row0_col3, #T_95a14_row0_col4, #T_95a14_row0_col6, #T_95a14_row0_col7, #T_95a14_row1_col1, #T_95a14_row1_col5, #T_95a14_row2_col2 {\n",
       "  text-align: left;\n",
       "  background-color: yellow;\n",
       "}\n",
       "#T_95a14_row0_col8, #T_95a14_row1_col8, #T_95a14_row2_col8, #T_95a14_row3_col8, #T_95a14_row4_col8, #T_95a14_row5_col8, #T_95a14_row6_col8, #T_95a14_row7_col8, #T_95a14_row8_col8, #T_95a14_row9_col8, #T_95a14_row10_col8, #T_95a14_row12_col8, #T_95a14_row13_col8 {\n",
       "  text-align: left;\n",
       "  background-color: lightgrey;\n",
       "}\n",
       "#T_95a14_row11_col8 {\n",
       "  text-align: left;\n",
       "  background-color: yellow;\n",
       "  background-color: lightgrey;\n",
       "}\n",
       "</style>\n",
       "<table id=\"T_95a14_\">\n",
       "  <thead>\n",
       "    <tr>\n",
       "      <th class=\"blank level0\" >&nbsp;</th>\n",
       "      <th class=\"col_heading level0 col0\" >Model</th>\n",
       "      <th class=\"col_heading level0 col1\" >Accuracy</th>\n",
       "      <th class=\"col_heading level0 col2\" >AUC</th>\n",
       "      <th class=\"col_heading level0 col3\" >Recall</th>\n",
       "      <th class=\"col_heading level0 col4\" >Prec.</th>\n",
       "      <th class=\"col_heading level0 col5\" >F1</th>\n",
       "      <th class=\"col_heading level0 col6\" >Kappa</th>\n",
       "      <th class=\"col_heading level0 col7\" >MCC</th>\n",
       "      <th class=\"col_heading level0 col8\" >TT (Sec)</th>\n",
       "    </tr>\n",
       "  </thead>\n",
       "  <tbody>\n",
       "    <tr>\n",
       "      <th id=\"T_95a14_level0_row0\" class=\"row_heading level0 row0\" >lr</th>\n",
       "      <td id=\"T_95a14_row0_col0\" class=\"data row0 col0\" >Logistic Regression</td>\n",
       "      <td id=\"T_95a14_row0_col1\" class=\"data row0 col1\" >0.9800</td>\n",
       "      <td id=\"T_95a14_row0_col2\" class=\"data row0 col2\" >0.9971</td>\n",
       "      <td id=\"T_95a14_row0_col3\" class=\"data row0 col3\" >0.9806</td>\n",
       "      <td id=\"T_95a14_row0_col4\" class=\"data row0 col4\" >0.9850</td>\n",
       "      <td id=\"T_95a14_row0_col5\" class=\"data row0 col5\" >0.9797</td>\n",
       "      <td id=\"T_95a14_row0_col6\" class=\"data row0 col6\" >0.9699</td>\n",
       "      <td id=\"T_95a14_row0_col7\" class=\"data row0 col7\" >0.9725</td>\n",
       "      <td id=\"T_95a14_row0_col8\" class=\"data row0 col8\" >0.4440</td>\n",
       "    </tr>\n",
       "    <tr>\n",
       "      <th id=\"T_95a14_level0_row1\" class=\"row_heading level0 row1\" >gbc</th>\n",
       "      <td id=\"T_95a14_row1_col0\" class=\"data row1 col0\" >Gradient Boosting Classifier</td>\n",
       "      <td id=\"T_95a14_row1_col1\" class=\"data row1 col1\" >0.9800</td>\n",
       "      <td id=\"T_95a14_row1_col2\" class=\"data row1 col2\" >0.9907</td>\n",
       "      <td id=\"T_95a14_row1_col3\" class=\"data row1 col3\" >0.9778</td>\n",
       "      <td id=\"T_95a14_row1_col4\" class=\"data row1 col4\" >0.9800</td>\n",
       "      <td id=\"T_95a14_row1_col5\" class=\"data row1 col5\" >0.9800</td>\n",
       "      <td id=\"T_95a14_row1_col6\" class=\"data row1 col6\" >0.9697</td>\n",
       "      <td id=\"T_95a14_row1_col7\" class=\"data row1 col7\" >0.9697</td>\n",
       "      <td id=\"T_95a14_row1_col8\" class=\"data row1 col8\" >0.1230</td>\n",
       "    </tr>\n",
       "    <tr>\n",
       "      <th id=\"T_95a14_level0_row2\" class=\"row_heading level0 row2\" >qda</th>\n",
       "      <td id=\"T_95a14_row2_col0\" class=\"data row2 col0\" >Quadratic Discriminant Analysis</td>\n",
       "      <td id=\"T_95a14_row2_col1\" class=\"data row2 col1\" >0.9709</td>\n",
       "      <td id=\"T_95a14_row2_col2\" class=\"data row2 col2\" >1.0000</td>\n",
       "      <td id=\"T_95a14_row2_col3\" class=\"data row2 col3\" >0.9667</td>\n",
       "      <td id=\"T_95a14_row2_col4\" class=\"data row2 col4\" >0.9777</td>\n",
       "      <td id=\"T_95a14_row2_col5\" class=\"data row2 col5\" >0.9699</td>\n",
       "      <td id=\"T_95a14_row2_col6\" class=\"data row2 col6\" >0.9558</td>\n",
       "      <td id=\"T_95a14_row2_col7\" class=\"data row2 col7\" >0.9595</td>\n",
       "      <td id=\"T_95a14_row2_col8\" class=\"data row2 col8\" >0.0070</td>\n",
       "    </tr>\n",
       "    <tr>\n",
       "      <th id=\"T_95a14_level0_row3\" class=\"row_heading level0 row3\" >ada</th>\n",
       "      <td id=\"T_95a14_row3_col0\" class=\"data row3 col0\" >Ada Boost Classifier</td>\n",
       "      <td id=\"T_95a14_row3_col1\" class=\"data row3 col1\" >0.9709</td>\n",
       "      <td id=\"T_95a14_row3_col2\" class=\"data row3 col2\" >0.9986</td>\n",
       "      <td id=\"T_95a14_row3_col3\" class=\"data row3 col3\" >0.9694</td>\n",
       "      <td id=\"T_95a14_row3_col4\" class=\"data row3 col4\" >0.9777</td>\n",
       "      <td id=\"T_95a14_row3_col5\" class=\"data row3 col5\" >0.9702</td>\n",
       "      <td id=\"T_95a14_row3_col6\" class=\"data row3 col6\" >0.9559</td>\n",
       "      <td id=\"T_95a14_row3_col7\" class=\"data row3 col7\" >0.9597</td>\n",
       "      <td id=\"T_95a14_row3_col8\" class=\"data row3 col8\" >0.0690</td>\n",
       "    </tr>\n",
       "    <tr>\n",
       "      <th id=\"T_95a14_level0_row4\" class=\"row_heading level0 row4\" >lda</th>\n",
       "      <td id=\"T_95a14_row4_col0\" class=\"data row4 col0\" >Linear Discriminant Analysis</td>\n",
       "      <td id=\"T_95a14_row4_col1\" class=\"data row4 col1\" >0.9709</td>\n",
       "      <td id=\"T_95a14_row4_col2\" class=\"data row4 col2\" >0.9971</td>\n",
       "      <td id=\"T_95a14_row4_col3\" class=\"data row4 col3\" >0.9667</td>\n",
       "      <td id=\"T_95a14_row4_col4\" class=\"data row4 col4\" >0.9777</td>\n",
       "      <td id=\"T_95a14_row4_col5\" class=\"data row4 col5\" >0.9699</td>\n",
       "      <td id=\"T_95a14_row4_col6\" class=\"data row4 col6\" >0.9558</td>\n",
       "      <td id=\"T_95a14_row4_col7\" class=\"data row4 col7\" >0.9595</td>\n",
       "      <td id=\"T_95a14_row4_col8\" class=\"data row4 col8\" >0.0080</td>\n",
       "    </tr>\n",
       "    <tr>\n",
       "      <th id=\"T_95a14_level0_row5\" class=\"row_heading level0 row5\" >dt</th>\n",
       "      <td id=\"T_95a14_row5_col0\" class=\"data row5 col0\" >Decision Tree Classifier</td>\n",
       "      <td id=\"T_95a14_row5_col1\" class=\"data row5 col1\" >0.9700</td>\n",
       "      <td id=\"T_95a14_row5_col2\" class=\"data row5 col2\" >0.9786</td>\n",
       "      <td id=\"T_95a14_row5_col3\" class=\"data row5 col3\" >0.9667</td>\n",
       "      <td id=\"T_95a14_row5_col4\" class=\"data row5 col4\" >0.9725</td>\n",
       "      <td id=\"T_95a14_row5_col5\" class=\"data row5 col5\" >0.9697</td>\n",
       "      <td id=\"T_95a14_row5_col6\" class=\"data row5 col6\" >0.9545</td>\n",
       "      <td id=\"T_95a14_row5_col7\" class=\"data row5 col7\" >0.9559</td>\n",
       "      <td id=\"T_95a14_row5_col8\" class=\"data row5 col8\" >0.0230</td>\n",
       "    </tr>\n",
       "    <tr>\n",
       "      <th id=\"T_95a14_level0_row6\" class=\"row_heading level0 row6\" >knn</th>\n",
       "      <td id=\"T_95a14_row6_col0\" class=\"data row6 col0\" >K Neighbors Classifier</td>\n",
       "      <td id=\"T_95a14_row6_col1\" class=\"data row6 col1\" >0.9609</td>\n",
       "      <td id=\"T_95a14_row6_col2\" class=\"data row6 col2\" >0.9829</td>\n",
       "      <td id=\"T_95a14_row6_col3\" class=\"data row6 col3\" >0.9583</td>\n",
       "      <td id=\"T_95a14_row6_col4\" class=\"data row6 col4\" >0.9702</td>\n",
       "      <td id=\"T_95a14_row6_col5\" class=\"data row6 col5\" >0.9599</td>\n",
       "      <td id=\"T_95a14_row6_col6\" class=\"data row6 col6\" >0.9408</td>\n",
       "      <td id=\"T_95a14_row6_col7\" class=\"data row6 col7\" >0.9459</td>\n",
       "      <td id=\"T_95a14_row6_col8\" class=\"data row6 col8\" >0.0090</td>\n",
       "    </tr>\n",
       "    <tr>\n",
       "      <th id=\"T_95a14_level0_row7\" class=\"row_heading level0 row7\" >rf</th>\n",
       "      <td id=\"T_95a14_row7_col0\" class=\"data row7 col0\" >Random Forest Classifier</td>\n",
       "      <td id=\"T_95a14_row7_col1\" class=\"data row7 col1\" >0.9509</td>\n",
       "      <td id=\"T_95a14_row7_col2\" class=\"data row7 col2\" >0.9971</td>\n",
       "      <td id=\"T_95a14_row7_col3\" class=\"data row7 col3\" >0.9500</td>\n",
       "      <td id=\"T_95a14_row7_col4\" class=\"data row7 col4\" >0.9577</td>\n",
       "      <td id=\"T_95a14_row7_col5\" class=\"data row7 col5\" >0.9505</td>\n",
       "      <td id=\"T_95a14_row7_col6\" class=\"data row7 col6\" >0.9259</td>\n",
       "      <td id=\"T_95a14_row7_col7\" class=\"data row7 col7\" >0.9296</td>\n",
       "      <td id=\"T_95a14_row7_col8\" class=\"data row7 col8\" >0.0690</td>\n",
       "    </tr>\n",
       "    <tr>\n",
       "      <th id=\"T_95a14_level0_row8\" class=\"row_heading level0 row8\" >et</th>\n",
       "      <td id=\"T_95a14_row8_col0\" class=\"data row8 col0\" >Extra Trees Classifier</td>\n",
       "      <td id=\"T_95a14_row8_col1\" class=\"data row8 col1\" >0.9509</td>\n",
       "      <td id=\"T_95a14_row8_col2\" class=\"data row8 col2\" >0.9957</td>\n",
       "      <td id=\"T_95a14_row8_col3\" class=\"data row8 col3\" >0.9472</td>\n",
       "      <td id=\"T_95a14_row8_col4\" class=\"data row8 col4\" >0.9577</td>\n",
       "      <td id=\"T_95a14_row8_col5\" class=\"data row8 col5\" >0.9502</td>\n",
       "      <td id=\"T_95a14_row8_col6\" class=\"data row8 col6\" >0.9257</td>\n",
       "      <td id=\"T_95a14_row8_col7\" class=\"data row8 col7\" >0.9294</td>\n",
       "      <td id=\"T_95a14_row8_col8\" class=\"data row8 col8\" >0.1290</td>\n",
       "    </tr>\n",
       "    <tr>\n",
       "      <th id=\"T_95a14_level0_row9\" class=\"row_heading level0 row9\" >nb</th>\n",
       "      <td id=\"T_95a14_row9_col0\" class=\"data row9 col0\" >Naive Bayes</td>\n",
       "      <td id=\"T_95a14_row9_col1\" class=\"data row9 col1\" >0.9318</td>\n",
       "      <td id=\"T_95a14_row9_col2\" class=\"data row9 col2\" >0.9917</td>\n",
       "      <td id=\"T_95a14_row9_col3\" class=\"data row9 col3\" >0.9306</td>\n",
       "      <td id=\"T_95a14_row9_col4\" class=\"data row9 col4\" >0.9368</td>\n",
       "      <td id=\"T_95a14_row9_col5\" class=\"data row9 col5\" >0.9307</td>\n",
       "      <td id=\"T_95a14_row9_col6\" class=\"data row9 col6\" >0.8970</td>\n",
       "      <td id=\"T_95a14_row9_col7\" class=\"data row9 col7\" >0.9004</td>\n",
       "      <td id=\"T_95a14_row9_col8\" class=\"data row9 col8\" >0.0060</td>\n",
       "    </tr>\n",
       "    <tr>\n",
       "      <th id=\"T_95a14_level0_row10\" class=\"row_heading level0 row10\" >lightgbm</th>\n",
       "      <td id=\"T_95a14_row10_col0\" class=\"data row10 col0\" >Light Gradient Boosting Machine</td>\n",
       "      <td id=\"T_95a14_row10_col1\" class=\"data row10 col1\" >0.9245</td>\n",
       "      <td id=\"T_95a14_row10_col2\" class=\"data row10 col2\" >0.9831</td>\n",
       "      <td id=\"T_95a14_row10_col3\" class=\"data row10 col3\" >0.9250</td>\n",
       "      <td id=\"T_95a14_row10_col4\" class=\"data row10 col4\" >0.9411</td>\n",
       "      <td id=\"T_95a14_row10_col5\" class=\"data row10 col5\" >0.9228</td>\n",
       "      <td id=\"T_95a14_row10_col6\" class=\"data row10 col6\" >0.8865</td>\n",
       "      <td id=\"T_95a14_row10_col7\" class=\"data row10 col7\" >0.8953</td>\n",
       "      <td id=\"T_95a14_row10_col8\" class=\"data row10 col8\" >0.0430</td>\n",
       "    </tr>\n",
       "    <tr>\n",
       "      <th id=\"T_95a14_level0_row11\" class=\"row_heading level0 row11\" >ridge</th>\n",
       "      <td id=\"T_95a14_row11_col0\" class=\"data row11 col0\" >Ridge Classifier</td>\n",
       "      <td id=\"T_95a14_row11_col1\" class=\"data row11 col1\" >0.8655</td>\n",
       "      <td id=\"T_95a14_row11_col2\" class=\"data row11 col2\" >0.0000</td>\n",
       "      <td id=\"T_95a14_row11_col3\" class=\"data row11 col3\" >0.8556</td>\n",
       "      <td id=\"T_95a14_row11_col4\" class=\"data row11 col4\" >0.8886</td>\n",
       "      <td id=\"T_95a14_row11_col5\" class=\"data row11 col5\" >0.8593</td>\n",
       "      <td id=\"T_95a14_row11_col6\" class=\"data row11 col6\" >0.7956</td>\n",
       "      <td id=\"T_95a14_row11_col7\" class=\"data row11 col7\" >0.8092</td>\n",
       "      <td id=\"T_95a14_row11_col8\" class=\"data row11 col8\" >0.0040</td>\n",
       "    </tr>\n",
       "    <tr>\n",
       "      <th id=\"T_95a14_level0_row12\" class=\"row_heading level0 row12\" >svm</th>\n",
       "      <td id=\"T_95a14_row12_col0\" class=\"data row12 col0\" >SVM - Linear Kernel</td>\n",
       "      <td id=\"T_95a14_row12_col1\" class=\"data row12 col1\" >0.7691</td>\n",
       "      <td id=\"T_95a14_row12_col2\" class=\"data row12 col2\" >0.0000</td>\n",
       "      <td id=\"T_95a14_row12_col3\" class=\"data row12 col3\" >0.7472</td>\n",
       "      <td id=\"T_95a14_row12_col4\" class=\"data row12 col4\" >0.6752</td>\n",
       "      <td id=\"T_95a14_row12_col5\" class=\"data row12 col5\" >0.6994</td>\n",
       "      <td id=\"T_95a14_row12_col6\" class=\"data row12 col6\" >0.6450</td>\n",
       "      <td id=\"T_95a14_row12_col7\" class=\"data row12 col7\" >0.7076</td>\n",
       "      <td id=\"T_95a14_row12_col8\" class=\"data row12 col8\" >0.0090</td>\n",
       "    </tr>\n",
       "    <tr>\n",
       "      <th id=\"T_95a14_level0_row13\" class=\"row_heading level0 row13\" >dummy</th>\n",
       "      <td id=\"T_95a14_row13_col0\" class=\"data row13 col0\" >Dummy Classifier</td>\n",
       "      <td id=\"T_95a14_row13_col1\" class=\"data row13 col1\" >0.3664</td>\n",
       "      <td id=\"T_95a14_row13_col2\" class=\"data row13 col2\" >0.5000</td>\n",
       "      <td id=\"T_95a14_row13_col3\" class=\"data row13 col3\" >0.3333</td>\n",
       "      <td id=\"T_95a14_row13_col4\" class=\"data row13 col4\" >0.1361</td>\n",
       "      <td id=\"T_95a14_row13_col5\" class=\"data row13 col5\" >0.1980</td>\n",
       "      <td id=\"T_95a14_row13_col6\" class=\"data row13 col6\" >0.0000</td>\n",
       "      <td id=\"T_95a14_row13_col7\" class=\"data row13 col7\" >0.0000</td>\n",
       "      <td id=\"T_95a14_row13_col8\" class=\"data row13 col8\" >0.0080</td>\n",
       "    </tr>\n",
       "  </tbody>\n",
       "</table>\n"
      ],
      "text/plain": [
       "<pandas.io.formats.style.Styler at 0x231b195b4c0>"
      ]
     },
     "metadata": {},
     "output_type": "display_data"
    },
    {
     "data": {
      "text/plain": [
       "LogisticRegression(C=1.0, class_weight=None, dual=False, fit_intercept=True,\n",
       "                   intercept_scaling=1, l1_ratio=None, max_iter=1000,\n",
       "                   multi_class='auto', n_jobs=None, penalty='l2',\n",
       "                   random_state=4398, solver='lbfgs', tol=0.0001, verbose=0,\n",
       "                   warm_start=False)"
      ]
     },
     "execution_count": 68,
     "metadata": {},
     "output_type": "execute_result"
    }
   ],
   "source": [
    "# compare different regression models\n",
    "compare_models()"
   ]
  },
  {
   "cell_type": "code",
   "execution_count": 69,
   "id": "986ae288",
   "metadata": {},
   "outputs": [
    {
     "data": {
      "text/html": [
       "<style type=\"text/css\">\n",
       "#T_d83d5_row10_col0, #T_d83d5_row10_col1, #T_d83d5_row10_col2, #T_d83d5_row10_col3, #T_d83d5_row10_col4, #T_d83d5_row10_col5, #T_d83d5_row10_col6 {\n",
       "  background: yellow;\n",
       "}\n",
       "</style>\n",
       "<table id=\"T_d83d5_\">\n",
       "  <thead>\n",
       "    <tr>\n",
       "      <th class=\"blank level0\" >&nbsp;</th>\n",
       "      <th class=\"col_heading level0 col0\" >Accuracy</th>\n",
       "      <th class=\"col_heading level0 col1\" >AUC</th>\n",
       "      <th class=\"col_heading level0 col2\" >Recall</th>\n",
       "      <th class=\"col_heading level0 col3\" >Prec.</th>\n",
       "      <th class=\"col_heading level0 col4\" >F1</th>\n",
       "      <th class=\"col_heading level0 col5\" >Kappa</th>\n",
       "      <th class=\"col_heading level0 col6\" >MCC</th>\n",
       "    </tr>\n",
       "  </thead>\n",
       "  <tbody>\n",
       "    <tr>\n",
       "      <th id=\"T_d83d5_level0_row0\" class=\"row_heading level0 row0\" >0</th>\n",
       "      <td id=\"T_d83d5_row0_col0\" class=\"data row0 col0\" >1.0000</td>\n",
       "      <td id=\"T_d83d5_row0_col1\" class=\"data row0 col1\" >1.0000</td>\n",
       "      <td id=\"T_d83d5_row0_col2\" class=\"data row0 col2\" >1.0000</td>\n",
       "      <td id=\"T_d83d5_row0_col3\" class=\"data row0 col3\" >1.0000</td>\n",
       "      <td id=\"T_d83d5_row0_col4\" class=\"data row0 col4\" >1.0000</td>\n",
       "      <td id=\"T_d83d5_row0_col5\" class=\"data row0 col5\" >1.0000</td>\n",
       "      <td id=\"T_d83d5_row0_col6\" class=\"data row0 col6\" >1.0000</td>\n",
       "    </tr>\n",
       "    <tr>\n",
       "      <th id=\"T_d83d5_level0_row1\" class=\"row_heading level0 row1\" >1</th>\n",
       "      <td id=\"T_d83d5_row1_col0\" class=\"data row1 col0\" >1.0000</td>\n",
       "      <td id=\"T_d83d5_row1_col1\" class=\"data row1 col1\" >1.0000</td>\n",
       "      <td id=\"T_d83d5_row1_col2\" class=\"data row1 col2\" >1.0000</td>\n",
       "      <td id=\"T_d83d5_row1_col3\" class=\"data row1 col3\" >1.0000</td>\n",
       "      <td id=\"T_d83d5_row1_col4\" class=\"data row1 col4\" >1.0000</td>\n",
       "      <td id=\"T_d83d5_row1_col5\" class=\"data row1 col5\" >1.0000</td>\n",
       "      <td id=\"T_d83d5_row1_col6\" class=\"data row1 col6\" >1.0000</td>\n",
       "    </tr>\n",
       "    <tr>\n",
       "      <th id=\"T_d83d5_level0_row2\" class=\"row_heading level0 row2\" >2</th>\n",
       "      <td id=\"T_d83d5_row2_col0\" class=\"data row2 col0\" >1.0000</td>\n",
       "      <td id=\"T_d83d5_row2_col1\" class=\"data row2 col1\" >1.0000</td>\n",
       "      <td id=\"T_d83d5_row2_col2\" class=\"data row2 col2\" >1.0000</td>\n",
       "      <td id=\"T_d83d5_row2_col3\" class=\"data row2 col3\" >1.0000</td>\n",
       "      <td id=\"T_d83d5_row2_col4\" class=\"data row2 col4\" >1.0000</td>\n",
       "      <td id=\"T_d83d5_row2_col5\" class=\"data row2 col5\" >1.0000</td>\n",
       "      <td id=\"T_d83d5_row2_col6\" class=\"data row2 col6\" >1.0000</td>\n",
       "    </tr>\n",
       "    <tr>\n",
       "      <th id=\"T_d83d5_level0_row3\" class=\"row_heading level0 row3\" >3</th>\n",
       "      <td id=\"T_d83d5_row3_col0\" class=\"data row3 col0\" >1.0000</td>\n",
       "      <td id=\"T_d83d5_row3_col1\" class=\"data row3 col1\" >1.0000</td>\n",
       "      <td id=\"T_d83d5_row3_col2\" class=\"data row3 col2\" >1.0000</td>\n",
       "      <td id=\"T_d83d5_row3_col3\" class=\"data row3 col3\" >1.0000</td>\n",
       "      <td id=\"T_d83d5_row3_col4\" class=\"data row3 col4\" >1.0000</td>\n",
       "      <td id=\"T_d83d5_row3_col5\" class=\"data row3 col5\" >1.0000</td>\n",
       "      <td id=\"T_d83d5_row3_col6\" class=\"data row3 col6\" >1.0000</td>\n",
       "    </tr>\n",
       "    <tr>\n",
       "      <th id=\"T_d83d5_level0_row4\" class=\"row_heading level0 row4\" >4</th>\n",
       "      <td id=\"T_d83d5_row4_col0\" class=\"data row4 col0\" >1.0000</td>\n",
       "      <td id=\"T_d83d5_row4_col1\" class=\"data row4 col1\" >1.0000</td>\n",
       "      <td id=\"T_d83d5_row4_col2\" class=\"data row4 col2\" >1.0000</td>\n",
       "      <td id=\"T_d83d5_row4_col3\" class=\"data row4 col3\" >1.0000</td>\n",
       "      <td id=\"T_d83d5_row4_col4\" class=\"data row4 col4\" >1.0000</td>\n",
       "      <td id=\"T_d83d5_row4_col5\" class=\"data row4 col5\" >1.0000</td>\n",
       "      <td id=\"T_d83d5_row4_col6\" class=\"data row4 col6\" >1.0000</td>\n",
       "    </tr>\n",
       "    <tr>\n",
       "      <th id=\"T_d83d5_level0_row5\" class=\"row_heading level0 row5\" >5</th>\n",
       "      <td id=\"T_d83d5_row5_col0\" class=\"data row5 col0\" >1.0000</td>\n",
       "      <td id=\"T_d83d5_row5_col1\" class=\"data row5 col1\" >1.0000</td>\n",
       "      <td id=\"T_d83d5_row5_col2\" class=\"data row5 col2\" >1.0000</td>\n",
       "      <td id=\"T_d83d5_row5_col3\" class=\"data row5 col3\" >1.0000</td>\n",
       "      <td id=\"T_d83d5_row5_col4\" class=\"data row5 col4\" >1.0000</td>\n",
       "      <td id=\"T_d83d5_row5_col5\" class=\"data row5 col5\" >1.0000</td>\n",
       "      <td id=\"T_d83d5_row5_col6\" class=\"data row5 col6\" >1.0000</td>\n",
       "    </tr>\n",
       "    <tr>\n",
       "      <th id=\"T_d83d5_level0_row6\" class=\"row_heading level0 row6\" >6</th>\n",
       "      <td id=\"T_d83d5_row6_col0\" class=\"data row6 col0\" >0.8000</td>\n",
       "      <td id=\"T_d83d5_row6_col1\" class=\"data row6 col1\" >0.9071</td>\n",
       "      <td id=\"T_d83d5_row6_col2\" class=\"data row6 col2\" >0.7778</td>\n",
       "      <td id=\"T_d83d5_row6_col3\" class=\"data row6 col3\" >0.8000</td>\n",
       "      <td id=\"T_d83d5_row6_col4\" class=\"data row6 col4\" >0.8000</td>\n",
       "      <td id=\"T_d83d5_row6_col5\" class=\"data row6 col5\" >0.6970</td>\n",
       "      <td id=\"T_d83d5_row6_col6\" class=\"data row6 col6\" >0.6970</td>\n",
       "    </tr>\n",
       "    <tr>\n",
       "      <th id=\"T_d83d5_level0_row7\" class=\"row_heading level0 row7\" >7</th>\n",
       "      <td id=\"T_d83d5_row7_col0\" class=\"data row7 col0\" >1.0000</td>\n",
       "      <td id=\"T_d83d5_row7_col1\" class=\"data row7 col1\" >1.0000</td>\n",
       "      <td id=\"T_d83d5_row7_col2\" class=\"data row7 col2\" >1.0000</td>\n",
       "      <td id=\"T_d83d5_row7_col3\" class=\"data row7 col3\" >1.0000</td>\n",
       "      <td id=\"T_d83d5_row7_col4\" class=\"data row7 col4\" >1.0000</td>\n",
       "      <td id=\"T_d83d5_row7_col5\" class=\"data row7 col5\" >1.0000</td>\n",
       "      <td id=\"T_d83d5_row7_col6\" class=\"data row7 col6\" >1.0000</td>\n",
       "    </tr>\n",
       "    <tr>\n",
       "      <th id=\"T_d83d5_level0_row8\" class=\"row_heading level0 row8\" >8</th>\n",
       "      <td id=\"T_d83d5_row8_col0\" class=\"data row8 col0\" >1.0000</td>\n",
       "      <td id=\"T_d83d5_row8_col1\" class=\"data row8 col1\" >1.0000</td>\n",
       "      <td id=\"T_d83d5_row8_col2\" class=\"data row8 col2\" >1.0000</td>\n",
       "      <td id=\"T_d83d5_row8_col3\" class=\"data row8 col3\" >1.0000</td>\n",
       "      <td id=\"T_d83d5_row8_col4\" class=\"data row8 col4\" >1.0000</td>\n",
       "      <td id=\"T_d83d5_row8_col5\" class=\"data row8 col5\" >1.0000</td>\n",
       "      <td id=\"T_d83d5_row8_col6\" class=\"data row8 col6\" >1.0000</td>\n",
       "    </tr>\n",
       "    <tr>\n",
       "      <th id=\"T_d83d5_level0_row9\" class=\"row_heading level0 row9\" >9</th>\n",
       "      <td id=\"T_d83d5_row9_col0\" class=\"data row9 col0\" >1.0000</td>\n",
       "      <td id=\"T_d83d5_row9_col1\" class=\"data row9 col1\" >1.0000</td>\n",
       "      <td id=\"T_d83d5_row9_col2\" class=\"data row9 col2\" >1.0000</td>\n",
       "      <td id=\"T_d83d5_row9_col3\" class=\"data row9 col3\" >1.0000</td>\n",
       "      <td id=\"T_d83d5_row9_col4\" class=\"data row9 col4\" >1.0000</td>\n",
       "      <td id=\"T_d83d5_row9_col5\" class=\"data row9 col5\" >1.0000</td>\n",
       "      <td id=\"T_d83d5_row9_col6\" class=\"data row9 col6\" >1.0000</td>\n",
       "    </tr>\n",
       "    <tr>\n",
       "      <th id=\"T_d83d5_level0_row10\" class=\"row_heading level0 row10\" >Mean</th>\n",
       "      <td id=\"T_d83d5_row10_col0\" class=\"data row10 col0\" >0.9800</td>\n",
       "      <td id=\"T_d83d5_row10_col1\" class=\"data row10 col1\" >0.9907</td>\n",
       "      <td id=\"T_d83d5_row10_col2\" class=\"data row10 col2\" >0.9778</td>\n",
       "      <td id=\"T_d83d5_row10_col3\" class=\"data row10 col3\" >0.9800</td>\n",
       "      <td id=\"T_d83d5_row10_col4\" class=\"data row10 col4\" >0.9800</td>\n",
       "      <td id=\"T_d83d5_row10_col5\" class=\"data row10 col5\" >0.9697</td>\n",
       "      <td id=\"T_d83d5_row10_col6\" class=\"data row10 col6\" >0.9697</td>\n",
       "    </tr>\n",
       "    <tr>\n",
       "      <th id=\"T_d83d5_level0_row11\" class=\"row_heading level0 row11\" >SD</th>\n",
       "      <td id=\"T_d83d5_row11_col0\" class=\"data row11 col0\" >0.0600</td>\n",
       "      <td id=\"T_d83d5_row11_col1\" class=\"data row11 col1\" >0.0279</td>\n",
       "      <td id=\"T_d83d5_row11_col2\" class=\"data row11 col2\" >0.0667</td>\n",
       "      <td id=\"T_d83d5_row11_col3\" class=\"data row11 col3\" >0.0600</td>\n",
       "      <td id=\"T_d83d5_row11_col4\" class=\"data row11 col4\" >0.0600</td>\n",
       "      <td id=\"T_d83d5_row11_col5\" class=\"data row11 col5\" >0.0909</td>\n",
       "      <td id=\"T_d83d5_row11_col6\" class=\"data row11 col6\" >0.0909</td>\n",
       "    </tr>\n",
       "  </tbody>\n",
       "</table>\n"
      ],
      "text/plain": [
       "<pandas.io.formats.style.Styler at 0x231b25e1b80>"
      ]
     },
     "metadata": {},
     "output_type": "display_data"
    }
   ],
   "source": [
    "# create a 10 fold cross validation for Gradient Boosting Classifier\n",
    "gbc=create_model('gbc')"
   ]
  },
  {
   "cell_type": "code",
   "execution_count": 70,
   "id": "7d74b266",
   "metadata": {},
   "outputs": [
    {
     "data": {
      "text/html": [
       "<style type=\"text/css\">\n",
       "#T_37bd5_row10_col0, #T_37bd5_row10_col1, #T_37bd5_row10_col2, #T_37bd5_row10_col3, #T_37bd5_row10_col4, #T_37bd5_row10_col5, #T_37bd5_row10_col6 {\n",
       "  background: yellow;\n",
       "}\n",
       "</style>\n",
       "<table id=\"T_37bd5_\">\n",
       "  <thead>\n",
       "    <tr>\n",
       "      <th class=\"blank level0\" >&nbsp;</th>\n",
       "      <th class=\"col_heading level0 col0\" >Accuracy</th>\n",
       "      <th class=\"col_heading level0 col1\" >AUC</th>\n",
       "      <th class=\"col_heading level0 col2\" >Recall</th>\n",
       "      <th class=\"col_heading level0 col3\" >Prec.</th>\n",
       "      <th class=\"col_heading level0 col4\" >F1</th>\n",
       "      <th class=\"col_heading level0 col5\" >Kappa</th>\n",
       "      <th class=\"col_heading level0 col6\" >MCC</th>\n",
       "    </tr>\n",
       "  </thead>\n",
       "  <tbody>\n",
       "    <tr>\n",
       "      <th id=\"T_37bd5_level0_row0\" class=\"row_heading level0 row0\" >0</th>\n",
       "      <td id=\"T_37bd5_row0_col0\" class=\"data row0 col0\" >1.0000</td>\n",
       "      <td id=\"T_37bd5_row0_col1\" class=\"data row0 col1\" >1.0000</td>\n",
       "      <td id=\"T_37bd5_row0_col2\" class=\"data row0 col2\" >1.0000</td>\n",
       "      <td id=\"T_37bd5_row0_col3\" class=\"data row0 col3\" >1.0000</td>\n",
       "      <td id=\"T_37bd5_row0_col4\" class=\"data row0 col4\" >1.0000</td>\n",
       "      <td id=\"T_37bd5_row0_col5\" class=\"data row0 col5\" >1.0000</td>\n",
       "      <td id=\"T_37bd5_row0_col6\" class=\"data row0 col6\" >1.0000</td>\n",
       "    </tr>\n",
       "    <tr>\n",
       "      <th id=\"T_37bd5_level0_row1\" class=\"row_heading level0 row1\" >1</th>\n",
       "      <td id=\"T_37bd5_row1_col0\" class=\"data row1 col0\" >1.0000</td>\n",
       "      <td id=\"T_37bd5_row1_col1\" class=\"data row1 col1\" >1.0000</td>\n",
       "      <td id=\"T_37bd5_row1_col2\" class=\"data row1 col2\" >1.0000</td>\n",
       "      <td id=\"T_37bd5_row1_col3\" class=\"data row1 col3\" >1.0000</td>\n",
       "      <td id=\"T_37bd5_row1_col4\" class=\"data row1 col4\" >1.0000</td>\n",
       "      <td id=\"T_37bd5_row1_col5\" class=\"data row1 col5\" >1.0000</td>\n",
       "      <td id=\"T_37bd5_row1_col6\" class=\"data row1 col6\" >1.0000</td>\n",
       "    </tr>\n",
       "    <tr>\n",
       "      <th id=\"T_37bd5_level0_row2\" class=\"row_heading level0 row2\" >2</th>\n",
       "      <td id=\"T_37bd5_row2_col0\" class=\"data row2 col0\" >1.0000</td>\n",
       "      <td id=\"T_37bd5_row2_col1\" class=\"data row2 col1\" >1.0000</td>\n",
       "      <td id=\"T_37bd5_row2_col2\" class=\"data row2 col2\" >1.0000</td>\n",
       "      <td id=\"T_37bd5_row2_col3\" class=\"data row2 col3\" >1.0000</td>\n",
       "      <td id=\"T_37bd5_row2_col4\" class=\"data row2 col4\" >1.0000</td>\n",
       "      <td id=\"T_37bd5_row2_col5\" class=\"data row2 col5\" >1.0000</td>\n",
       "      <td id=\"T_37bd5_row2_col6\" class=\"data row2 col6\" >1.0000</td>\n",
       "    </tr>\n",
       "    <tr>\n",
       "      <th id=\"T_37bd5_level0_row3\" class=\"row_heading level0 row3\" >3</th>\n",
       "      <td id=\"T_37bd5_row3_col0\" class=\"data row3 col0\" >0.9091</td>\n",
       "      <td id=\"T_37bd5_row3_col1\" class=\"data row3 col1\" >1.0000</td>\n",
       "      <td id=\"T_37bd5_row3_col2\" class=\"data row3 col2\" >0.9167</td>\n",
       "      <td id=\"T_37bd5_row3_col3\" class=\"data row3 col3\" >0.9273</td>\n",
       "      <td id=\"T_37bd5_row3_col4\" class=\"data row3 col4\" >0.9076</td>\n",
       "      <td id=\"T_37bd5_row3_col5\" class=\"data row3 col5\" >0.8625</td>\n",
       "      <td id=\"T_37bd5_row3_col6\" class=\"data row3 col6\" >0.8735</td>\n",
       "    </tr>\n",
       "    <tr>\n",
       "      <th id=\"T_37bd5_level0_row4\" class=\"row_heading level0 row4\" >4</th>\n",
       "      <td id=\"T_37bd5_row4_col0\" class=\"data row4 col0\" >1.0000</td>\n",
       "      <td id=\"T_37bd5_row4_col1\" class=\"data row4 col1\" >1.0000</td>\n",
       "      <td id=\"T_37bd5_row4_col2\" class=\"data row4 col2\" >1.0000</td>\n",
       "      <td id=\"T_37bd5_row4_col3\" class=\"data row4 col3\" >1.0000</td>\n",
       "      <td id=\"T_37bd5_row4_col4\" class=\"data row4 col4\" >1.0000</td>\n",
       "      <td id=\"T_37bd5_row4_col5\" class=\"data row4 col5\" >1.0000</td>\n",
       "      <td id=\"T_37bd5_row4_col6\" class=\"data row4 col6\" >1.0000</td>\n",
       "    </tr>\n",
       "    <tr>\n",
       "      <th id=\"T_37bd5_level0_row5\" class=\"row_heading level0 row5\" >5</th>\n",
       "      <td id=\"T_37bd5_row5_col0\" class=\"data row5 col0\" >1.0000</td>\n",
       "      <td id=\"T_37bd5_row5_col1\" class=\"data row5 col1\" >1.0000</td>\n",
       "      <td id=\"T_37bd5_row5_col2\" class=\"data row5 col2\" >1.0000</td>\n",
       "      <td id=\"T_37bd5_row5_col3\" class=\"data row5 col3\" >1.0000</td>\n",
       "      <td id=\"T_37bd5_row5_col4\" class=\"data row5 col4\" >1.0000</td>\n",
       "      <td id=\"T_37bd5_row5_col5\" class=\"data row5 col5\" >1.0000</td>\n",
       "      <td id=\"T_37bd5_row5_col6\" class=\"data row5 col6\" >1.0000</td>\n",
       "    </tr>\n",
       "    <tr>\n",
       "      <th id=\"T_37bd5_level0_row6\" class=\"row_heading level0 row6\" >6</th>\n",
       "      <td id=\"T_37bd5_row6_col0\" class=\"data row6 col0\" >0.9000</td>\n",
       "      <td id=\"T_37bd5_row6_col1\" class=\"data row6 col1\" >0.9714</td>\n",
       "      <td id=\"T_37bd5_row6_col2\" class=\"data row6 col2\" >0.8889</td>\n",
       "      <td id=\"T_37bd5_row6_col3\" class=\"data row6 col3\" >0.9250</td>\n",
       "      <td id=\"T_37bd5_row6_col4\" class=\"data row6 col4\" >0.8971</td>\n",
       "      <td id=\"T_37bd5_row6_col5\" class=\"data row6 col5\" >0.8485</td>\n",
       "      <td id=\"T_37bd5_row6_col6\" class=\"data row6 col6\" >0.8616</td>\n",
       "    </tr>\n",
       "    <tr>\n",
       "      <th id=\"T_37bd5_level0_row7\" class=\"row_heading level0 row7\" >7</th>\n",
       "      <td id=\"T_37bd5_row7_col0\" class=\"data row7 col0\" >1.0000</td>\n",
       "      <td id=\"T_37bd5_row7_col1\" class=\"data row7 col1\" >1.0000</td>\n",
       "      <td id=\"T_37bd5_row7_col2\" class=\"data row7 col2\" >1.0000</td>\n",
       "      <td id=\"T_37bd5_row7_col3\" class=\"data row7 col3\" >1.0000</td>\n",
       "      <td id=\"T_37bd5_row7_col4\" class=\"data row7 col4\" >1.0000</td>\n",
       "      <td id=\"T_37bd5_row7_col5\" class=\"data row7 col5\" >1.0000</td>\n",
       "      <td id=\"T_37bd5_row7_col6\" class=\"data row7 col6\" >1.0000</td>\n",
       "    </tr>\n",
       "    <tr>\n",
       "      <th id=\"T_37bd5_level0_row8\" class=\"row_heading level0 row8\" >8</th>\n",
       "      <td id=\"T_37bd5_row8_col0\" class=\"data row8 col0\" >1.0000</td>\n",
       "      <td id=\"T_37bd5_row8_col1\" class=\"data row8 col1\" >1.0000</td>\n",
       "      <td id=\"T_37bd5_row8_col2\" class=\"data row8 col2\" >1.0000</td>\n",
       "      <td id=\"T_37bd5_row8_col3\" class=\"data row8 col3\" >1.0000</td>\n",
       "      <td id=\"T_37bd5_row8_col4\" class=\"data row8 col4\" >1.0000</td>\n",
       "      <td id=\"T_37bd5_row8_col5\" class=\"data row8 col5\" >1.0000</td>\n",
       "      <td id=\"T_37bd5_row8_col6\" class=\"data row8 col6\" >1.0000</td>\n",
       "    </tr>\n",
       "    <tr>\n",
       "      <th id=\"T_37bd5_level0_row9\" class=\"row_heading level0 row9\" >9</th>\n",
       "      <td id=\"T_37bd5_row9_col0\" class=\"data row9 col0\" >0.9000</td>\n",
       "      <td id=\"T_37bd5_row9_col1\" class=\"data row9 col1\" >1.0000</td>\n",
       "      <td id=\"T_37bd5_row9_col2\" class=\"data row9 col2\" >0.8889</td>\n",
       "      <td id=\"T_37bd5_row9_col3\" class=\"data row9 col3\" >0.9250</td>\n",
       "      <td id=\"T_37bd5_row9_col4\" class=\"data row9 col4\" >0.8971</td>\n",
       "      <td id=\"T_37bd5_row9_col5\" class=\"data row9 col5\" >0.8485</td>\n",
       "      <td id=\"T_37bd5_row9_col6\" class=\"data row9 col6\" >0.8616</td>\n",
       "    </tr>\n",
       "    <tr>\n",
       "      <th id=\"T_37bd5_level0_row10\" class=\"row_heading level0 row10\" >Mean</th>\n",
       "      <td id=\"T_37bd5_row10_col0\" class=\"data row10 col0\" >0.9709</td>\n",
       "      <td id=\"T_37bd5_row10_col1\" class=\"data row10 col1\" >0.9971</td>\n",
       "      <td id=\"T_37bd5_row10_col2\" class=\"data row10 col2\" >0.9694</td>\n",
       "      <td id=\"T_37bd5_row10_col3\" class=\"data row10 col3\" >0.9777</td>\n",
       "      <td id=\"T_37bd5_row10_col4\" class=\"data row10 col4\" >0.9702</td>\n",
       "      <td id=\"T_37bd5_row10_col5\" class=\"data row10 col5\" >0.9559</td>\n",
       "      <td id=\"T_37bd5_row10_col6\" class=\"data row10 col6\" >0.9597</td>\n",
       "    </tr>\n",
       "    <tr>\n",
       "      <th id=\"T_37bd5_level0_row11\" class=\"row_heading level0 row11\" >SD</th>\n",
       "      <td id=\"T_37bd5_row11_col0\" class=\"data row11 col0\" >0.0445</td>\n",
       "      <td id=\"T_37bd5_row11_col1\" class=\"data row11 col1\" >0.0086</td>\n",
       "      <td id=\"T_37bd5_row11_col2\" class=\"data row11 col2\" >0.0472</td>\n",
       "      <td id=\"T_37bd5_row11_col3\" class=\"data row11 col3\" >0.0340</td>\n",
       "      <td id=\"T_37bd5_row11_col4\" class=\"data row11 col4\" >0.0456</td>\n",
       "      <td id=\"T_37bd5_row11_col5\" class=\"data row11 col5\" >0.0674</td>\n",
       "      <td id=\"T_37bd5_row11_col6\" class=\"data row11 col6\" >0.0617</td>\n",
       "    </tr>\n",
       "  </tbody>\n",
       "</table>\n"
      ],
      "text/plain": [
       "<pandas.io.formats.style.Styler at 0x231ae3ad6d0>"
      ]
     },
     "metadata": {},
     "output_type": "display_data"
    }
   ],
   "source": [
    "# tune the model\n",
    "tuned_gbc=tune_model(gbc)"
   ]
  },
  {
   "cell_type": "code",
   "execution_count": 71,
   "id": "6f16933b",
   "metadata": {},
   "outputs": [
    {
     "data": {
      "image/png": "[encoded data removed]",
      "text/plain": [
       "<Figure size 800x500 with 1 Axes>"
      ]
     },
     "metadata": {},
     "output_type": "display_data"
    }
   ],
   "source": [
    "# interpret the model\n",
    "plot_model(tuned_gbc, plot='feature')"
   ]
  },
  {
   "cell_type": "code",
   "execution_count": 73,
   "id": "41fc4ef5",
   "metadata": {},
   "outputs": [
    {
     "name": "stdout",
     "output_type": "stream",
     "text": [
      "Transformation Pipeline and Model Successfully Saved\n"
     ]
    },
    {
     "data": {
      "text/plain": [
       "(Pipeline(memory=None,\n",
       "          steps=[('dtypes',\n",
       "                  DataTypes_Auto_infer(categorical_features=[],\n",
       "                                       display_types=True, features_todrop=[],\n",
       "                                       id_columns=[],\n",
       "                                       ml_usecase='classification',\n",
       "                                       numerical_features=[], target='class',\n",
       "                                       time_features=[])),\n",
       "                 ('imputer',\n",
       "                  Simple_Imputer(categorical_strategy='not_available',\n",
       "                                 fill_value_categorical=None,\n",
       "                                 fill_value_numerical=None,\n",
       "                                 numeric_strate...\n",
       "                                             learning_rate=0.05, loss='deviance',\n",
       "                                             max_depth=7, max_features='sqrt',\n",
       "                                             max_leaf_nodes=None,\n",
       "                                             min_impurity_decrease=0.002,\n",
       "                                             min_impurity_split=None,\n",
       "                                             min_samples_leaf=3,\n",
       "                                             min_samples_split=5,\n",
       "                                             min_weight_fraction_leaf=0.0,\n",
       "                                             n_estimators=260,\n",
       "                                             n_iter_no_change=None,\n",
       "                                             presort='deprecated',\n",
       "                                             random_state=4398, subsample=0.8,\n",
       "                                             tol=0.0001, validation_fraction=0.1,\n",
       "                                             verbose=0, warm_start=False)]],\n",
       "          verbose=False),\n",
       " 'Final_model.pkl')"
      ]
     },
     "execution_count": 73,
     "metadata": {},
     "output_type": "execute_result"
    }
   ],
   "source": [
    "# save the model\n",
    "save_model(tuned_gbc, 'Final_model')"
   ]
  },
  {
   "cell_type": "markdown",
   "id": "c726fff5",
   "metadata": {},
   "source": [
    "# Deployment in Streamlit"
   ]
  },
  {
   "cell_type": "markdown",
   "id": "33c6d715",
   "metadata": {},
   "source": [
    "**Note**: \n",
    "1. When you run the code below this will create a **app.py** file in your working directory\n",
    "2. Use **python --version** command in anaconda command prompt to check the version of the python insatlled \n",
    "3. Make sure it is **Python 3.8 or Python 3.7**\n",
    "4. If is different create a new virual environment in anaconda using **Python 3.8**\n",
    "5. From the anaconda command prompt of this new virtual environment cd to the working directory and run the command **streamlit run app.py**"
   ]
  },
  {
   "cell_type": "code",
   "execution_count": 74,
   "id": "01d5908c",
   "metadata": {},
   "outputs": [
    {
     "name": "stdout",
     "output_type": "stream",
     "text": [
      "Overwriting app.py\n"
     ]
    }
   ],
   "source": [
    "%%writefile app.py\n",
    "import pandas as pd\n",
    "import streamlit as st\n",
    "from pycaret.classification import load_model, predict_model\n",
    "\n",
    "#STEP1 : IMPORT THE TRAINED MODEL PIPELINE\n",
    "# import the trained model\n",
    "model=load_model('Final_model')\n",
    "\n",
    "\n",
    "# STEP2: GET NEW DATA FOR PREDICTION FROM THE FRONT END\n",
    "st.title(\"App to predict the flower species\")\n",
    "sepal_length=st.slider('sepal length (cm)', 2.00, 8.00)\n",
    "sepal_width=st.slider('sepal width (cm)',2.00, 4.50)\n",
    "petal_length=st.slider('petal length (cm)', 1.00, 7.00)\n",
    "petal_width=st.slider('petal width (cm)',0.00, 2.50)\n",
    "\n",
    "data={\n",
    "    'sepal length (cm)': sepal_length,\n",
    "    'sepal width (cm)': sepal_width,\n",
    "    'petal length (cm)': petal_length,\n",
    "    'petal width (cm)':petal_width\n",
    "}\n",
    "\n",
    "input_data=pd.DataFrame([data])\n",
    "#input_data=str(input_data)\n",
    "\n",
    "# STEP3 : GET THE PREDICTION AND DISPLAY IT\n",
    "if st.button(\"Predict\"):\n",
    "    prediction=predict_model(model, input_data)\n",
    "    st.success(\"The predicted species of the flower is as below\")\n",
    "    prediction['Label'][0]"
   ]
  },
  {
   "cell_type": "markdown",
   "id": "5aa28caf",
   "metadata": {},
   "source": [
    "# END"
   ]
  }
 ],
 "metadata": {
  "kernelspec": {
   "display_name": "Python 3 (ipykernel)",
   "language": "python",
   "name": "python3"
  },
  "language_info": {
   "codemirror_mode": {
    "name": "ipython",
    "version": 3
   },
   "file_extension": ".py",
   "mimetype": "text/x-python",
   "name": "python",
   "nbconvert_exporter": "python",
   "pygments_lexer": "ipython3",
   "version": "3.8.12"
  }
 },
 "nbformat": 4,
 "nbformat_minor": 5
}
